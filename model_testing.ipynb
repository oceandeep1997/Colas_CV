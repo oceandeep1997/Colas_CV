{
 "cells": [
  {
   "cell_type": "code",
   "execution_count": null,
   "metadata": {},
   "outputs": [],
   "source": [
    "import torch\n",
    "import torch.nn as nn\n",
    "import torch.optim as optim\n",
    "from torch.optim import lr_scheduler\n",
    "import torch.backends.cudnn as cudnn\n",
    "from torch.utils.data import DataLoader\n",
    "import numpy as np\n",
    "import torchvision\n",
    "from torchvision import datasets, models, transforms\n",
    "import matplotlib.pyplot as plt\n",
    "import time\n",
    "import os\n",
    "import copy\n",
    "from tqdm import tqdm\n",
    "import ipdb\n",
    "import sys\n",
    "from model_building.model_creation import *\n",
    "import config\n",
    "import pandas as pd\n",
    "# from tensorflow.keras.utils import load_img\n",
    "# from tensorflow.keras.utils import img_to_array\n",
    "from sklearn.model_selection import train_test_split"
   ]
  },
  {
   "cell_type": "code",
   "execution_count": null,
   "metadata": {},
   "outputs": [],
   "source": [
    "model_cnn = multi_output_model()"
   ]
  },
  {
   "cell_type": "code",
   "execution_count": null,
   "metadata": {},
   "outputs": [],
   "source": [
    "colas_model = colas_model(model_cnn, 5)"
   ]
  },
  {
   "cell_type": "code",
   "execution_count": null,
   "metadata": {},
   "outputs": [],
   "source": [
    "\"/home/jovyan/hfactory_magic_folders/colas_data_challenge/computer_vision_challenge/dataset/test\""
   ]
  },
  {
   "cell_type": "code",
   "execution_count": null,
   "metadata": {},
   "outputs": [],
   "source": [
    "dataset_path = \"/home/jovyan/hfactory_magic_folders/colas_data_challenge/computer_vision_challenge/dataset/\"\n",
    "train_labels = pd.read_csv(dataset_path + \"labels_train.csv\")"
   ]
  },
  {
   "cell_type": "code",
   "execution_count": null,
   "metadata": {},
   "outputs": [],
   "source": [
    "df_train, df_val, df_test = np.split(\n",
    "    train_labels.sample(frac=1, random_state=42),\n",
    "    [int(0.8 * len(train_labels)), int(0.9 * len(train_labels))],\n",
    ")"
   ]
  },
  {
   "cell_type": "code",
   "execution_count": null,
   "metadata": {},
   "outputs": [],
   "source": [
    "fig, axes = plt.subplots(1,5,figsize=(20,10))\n",
    "for i in range(0,5):\n",
    "    df_train.iloc[:,i+1].value_counts().plot(kind=\"bar\",ax = axes[i])"
   ]
  },
  {
   "cell_type": "code",
   "execution_count": null,
   "metadata": {},
   "outputs": [],
   "source": [
    "# train_image = []\n",
    "# for i in tqdm.tqdm(range(train_labels.shape[0])):\n",
    "#     img = load_img(dataset_path + \"train/\" + train_labels[\"filename\"][i], target_size=(400,400,3))\n",
    "#     img = img_to_array(img)\n",
    "#     img = img/255\n",
    "#     train_image.append(img)\n",
    "# X = np.array(train_image)"
   ]
  },
  {
   "cell_type": "code",
   "execution_count": null,
   "metadata": {},
   "outputs": [],
   "source": [
    "train_transform = create_image_transform()\n",
    "train_dataset = Colas_Dataset(df_train, os.path.join(dataset_path,\"train\"),transform = train_transform)\n",
    "val_dataset = Colas_Dataset(df_val, os.path.join(dataset_path,\"train\"),transform = train_transform)\n"
   ]
  },
  {
   "cell_type": "code",
   "execution_count": null,
   "metadata": {
    "tags": []
   },
   "outputs": [],
   "source": [
    "colas_model.train(train_data = train_dataset, val_data = val_dataset,learning_rate = config.learning_rate, batch_size = config.batch_size,)"
   ]
  },
  {
   "cell_type": "code",
   "execution_count": null,
   "metadata": {},
   "outputs": [],
   "source": [
    "traintrain_dataset.__getitem__(0)"
   ]
  },
  {
   "cell_type": "code",
   "execution_count": null,
   "metadata": {},
   "outputs": [],
   "source": [
    "train_input, train_label = train_dataset.__getitem__(2)"
   ]
  },
  {
   "cell_type": "code",
   "execution_count": null,
   "metadata": {},
   "outputs": [],
   "source": [
    "train_label"
   ]
  },
  {
   "cell_type": "code",
   "execution_count": null,
   "metadata": {},
   "outputs": [],
   "source": [
    "train_dataloader = DataLoader(train_dataset,batch_size=config.batch_size,shuffle=True)\n",
    "for train_input, train_labels in train_dataloader:\n",
    "    train_labels = train_labels.to(device)\n",
    "    train_input = train_input.to(device)"
   ]
  },
  {
   "cell_type": "code",
   "execution_count": null,
   "metadata": {},
   "outputs": [],
   "source": []
  },
  {
   "cell_type": "code",
   "execution_count": null,
   "metadata": {},
   "outputs": [],
   "source": [
    "image, labels = dataset_loader.__getitem__(2)"
   ]
  },
  {
   "cell_type": "code",
   "execution_count": null,
   "metadata": {},
   "outputs": [],
   "source": []
  },
  {
   "cell_type": "code",
   "execution_count": null,
   "metadata": {},
   "outputs": [],
   "source": []
  },
  {
   "cell_type": "code",
   "execution_count": null,
   "metadata": {},
   "outputs": [],
   "source": []
  },
  {
   "cell_type": "code",
   "execution_count": null,
   "metadata": {},
   "outputs": [],
   "source": [
    "image.shape"
   ]
  },
  {
   "cell_type": "code",
   "execution_count": null,
   "metadata": {},
   "outputs": [],
   "source": [
    "image_name  = dataset_loader.data[2][0]"
   ]
  },
  {
   "cell_type": "code",
   "execution_count": null,
   "metadata": {},
   "outputs": [],
   "source": [
    "img_path = os.path.join(dataset_loader.path, image_name)\n",
    "image = img.imread(img_path)"
   ]
  },
  {
   "cell_type": "code",
   "execution_count": null,
   "metadata": {},
   "outputs": [],
   "source": []
  }
 ],
 "metadata": {
  "kernelspec": {
   "display_name": "Python 3 (ipykernel)",
   "language": "python",
   "name": "python3"
  },
  "language_info": {
   "codemirror_mode": {
    "name": "ipython",
    "version": 3
   },
   "file_extension": ".py",
   "mimetype": "text/x-python",
   "name": "python",
   "nbconvert_exporter": "python",
   "pygments_lexer": "ipython3",
   "version": "3.8.13"
  },
  "vscode": {
   "interpreter": {
    "hash": "a931a25b2e69c598684dcea1deb009988556cc66630143ec9bf2c5919bd12544"
   }
  }
 },
 "nbformat": 4,
 "nbformat_minor": 4
}
