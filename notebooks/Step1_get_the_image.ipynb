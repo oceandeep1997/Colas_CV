{
 "cells": [
  {
   "cell_type": "code",
   "execution_count": null,
   "metadata": {},
   "outputs": [],
   "source": [
    "import pandas as pd\n",
    "import glob\n",
    "import geopandas as gpd"
   ]
  },
  {
   "cell_type": "markdown",
   "metadata": {},
   "source": [
    "## in the file we use the Coordinates scraped from the API and then concatenate it and present the drawings in the end"
   ]
  },
  {
   "cell_type": "code",
   "execution_count": null,
   "metadata": {},
   "outputs": [],
   "source": [
    "# using the path name matching to exclude R1-6, more in the link below\n",
    "\n",
    "files = glob.iglob('./Coordinates/R[1-9][0-9]_*.shp')\n",
    "\n",
    "#to concat all the files  we want from tha path\n",
    "gdf = pd.concat([\n",
    "    gpd.read_file(file)\n",
    "    for file in files\n",
    "]).pipe(gpd.GeoDataFrame)\n"
   ]
  },
  {
   "cell_type": "markdown",
   "metadata": {},
   "source": [
    "https://docs.python.org/3/library/glob.html"
   ]
  },
  {
   "cell_type": "code",
   "execution_count": null,
   "metadata": {},
   "outputs": [],
   "source": [
    "gdf"
   ]
  },
  {
   "cell_type": "code",
   "execution_count": null,
   "metadata": {},
   "outputs": [],
   "source": [
    "import matplotlib.pyplot as plt\n",
    "\n",
    "fig, ax = plt.subplots(figsize=(15,15))\n",
    "gdf.plot(ax=ax, cmap=\"Blues\")\n",
    "#ax.axis(\"off\")\n",
    "ax.set_title(\"A map showing \")"
   ]
  },
  {
   "cell_type": "markdown",
   "metadata": {},
   "source": [
    "## One example of R11 to show detailed picture of the airport area"
   ]
  },
  {
   "cell_type": "code",
   "execution_count": null,
   "metadata": {},
   "outputs": [],
   "source": [
    "path = \"./Coordinates/R11_AERODROME.shp\"\n",
    "shapefile = gpd.read_file(path)"
   ]
  },
  {
   "cell_type": "code",
   "execution_count": null,
   "metadata": {},
   "outputs": [],
   "source": [
    "fig, ax = plt.subplots(figsize=(10,10))\n",
    "shapefile.plot(ax=ax, column=\"TOPONYME\", cmap=\"Blues\")\n",
    "#ax.axis(\"off\")\n",
    "ax.set_title(\"A map showing toponyme at \")"
   ]
  },
  {
   "cell_type": "code",
   "execution_count": null,
   "metadata": {},
   "outputs": [],
   "source": [
    "shapefile"
   ]
  },
  {
   "cell_type": "code",
   "execution_count": null,
   "metadata": {},
   "outputs": [],
   "source": []
  }
 ],
 "metadata": {
  "interpreter": {
   "hash": "e682d13903db3772204585cf8203514892d4f027451edb54372101fbfa9bbfe6"
  },
  "kernelspec": {
   "display_name": "Python 3.7.11 64-bit ('ML-Forest-prediction': conda)",
   "language": "python",
   "name": "python3"
  },
  "language_info": {
   "codemirror_mode": {
    "name": "ipython",
    "version": 3
   },
   "file_extension": ".py",
   "mimetype": "text/x-python",
   "name": "python",
   "nbconvert_exporter": "python",
   "pygments_lexer": "ipython3",
   "version": "3.7.11"
  }
 },
 "nbformat": 4,
 "nbformat_minor": 2
}
