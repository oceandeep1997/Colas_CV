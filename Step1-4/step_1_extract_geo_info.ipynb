{
 "cells": [
  {
   "cell_type": "code",
   "execution_count": null,
   "metadata": {},
   "outputs": [],
   "source": [
    "#pip install PyShp\n",
    "import pandas as pd\n",
    "import shapefile\n",
    "import fiona"
   ]
  },
  {
   "cell_type": "code",
   "execution_count": null,
   "metadata": {},
   "outputs": [],
   "source": [
    "# first way: use fiona package to read the file\n",
    "\n",
    "path='./Step1/BDCARTO_4-0_TOUSTHEMES_SHP_LAMB93_R11_2021-05-10/BDCARTO/1_DONNEES_LIVRAISON_2021-05-00119/BDC_4-0_SHP_LAMB93_R11-ED211/EQUIPEMENT/AERODROME.shp'\n",
    "\n",
    "shape = fiona.open(path)\n",
    "print (shape.schema)"
   ]
  },
  {
   "cell_type": "code",
   "execution_count": null,
   "metadata": {},
   "outputs": [],
   "source": [
    "first = shape.next()\n",
    "print (first)"
   ]
  },
  {
   "cell_type": "code",
   "execution_count": null,
   "metadata": {},
   "outputs": [],
   "source": [
    "#second way, use shapefile to read the file\n",
    "sf = shapefile.Reader(path)"
   ]
  },
  {
   "cell_type": "code",
   "execution_count": null,
   "metadata": {},
   "outputs": [],
   "source": [
    "feature = sf.shapeRecords()[0]\n",
    "first = feature.shape.__geo_interface__  \n",
    "print (first) # (GeoJSON format)"
   ]
  },
  {
   "cell_type": "code",
   "execution_count": null,
   "metadata": {},
   "outputs": [],
   "source": []
  }
 ],
 "metadata": {
  "interpreter": {
   "hash": "e682d13903db3772204585cf8203514892d4f027451edb54372101fbfa9bbfe6"
  },
  "kernelspec": {
   "display_name": "Python 3.7.11 64-bit ('ML-Forest-prediction': conda)",
   "language": "python",
   "name": "python3"
  },
  "language_info": {
   "codemirror_mode": {
    "name": "ipython",
    "version": 3
   },
   "file_extension": ".py",
   "mimetype": "text/x-python",
   "name": "python",
   "nbconvert_exporter": "python",
   "pygments_lexer": "ipython3",
   "version": "3.7.11"
  }
 },
 "nbformat": 4,
 "nbformat_minor": 2
}
