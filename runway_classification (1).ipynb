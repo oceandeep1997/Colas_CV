{
 "cells": [
  {
   "cell_type": "code",
   "execution_count": 31,
   "id": "37a46420-993e-4fbc-8262-b8771d76baff",
   "metadata": {},
   "outputs": [],
   "source": [
    "from pathlib import Path\n",
    "import pandas as pd\n",
    "import numpy as np\n",
    "from tqdm import tqdm\n",
    "import matplotlib.pyplot as plt\n",
    "from sklearn.model_selection import train_test_split\n",
    "\n",
    "from tensorflow.keras.utils import load_img\n",
    "from tensorflow.keras.utils import img_to_array\n",
    "from tensorflow.keras.models import Sequential\n",
    "from tensorflow.keras.layers import Dense, Dropout, Flatten\n",
    "from tensorflow.keras.layers import Conv2D, MaxPooling2D"
   ]
  },
  {
   "cell_type": "code",
   "execution_count": 32,
   "id": "32154311-ea5b-4e2b-89fe-cb1c973e0861",
   "metadata": {},
   "outputs": [],
   "source": [
    "dataset_path = \"hfactory_magic_folders/colas_data_challenge/computer_vision_challenge/dataset/\""
   ]
  },
  {
   "cell_type": "code",
   "execution_count": 33,
   "id": "57720169-2605-4698-a7a0-4b84f3bcf33a",
   "metadata": {},
   "outputs": [],
   "source": [
    "train_labels = pd.read_csv(dataset_path + \"labels_train.csv\")\n"
   ]
  },
  {
   "cell_type": "code",
   "execution_count": 34,
   "id": "faf208fc-a93d-491b-bed5-3692c65b7b5c",
   "metadata": {},
   "outputs": [
    {
     "data": {
      "text/html": [
       "<div>\n",
       "<style scoped>\n",
       "    .dataframe tbody tr th:only-of-type {\n",
       "        vertical-align: middle;\n",
       "    }\n",
       "\n",
       "    .dataframe tbody tr th {\n",
       "        vertical-align: top;\n",
       "    }\n",
       "\n",
       "    .dataframe thead th {\n",
       "        text-align: right;\n",
       "    }\n",
       "</style>\n",
       "<table border=\"1\" class=\"dataframe\">\n",
       "  <thead>\n",
       "    <tr style=\"text-align: right;\">\n",
       "      <th></th>\n",
       "      <th>filename</th>\n",
       "      <th>FISSURE</th>\n",
       "      <th>REPARATION</th>\n",
       "      <th>FISSURE LONGITUDINALE</th>\n",
       "      <th>FAÏENCAGE</th>\n",
       "      <th>MISE EN DALLE</th>\n",
       "    </tr>\n",
       "  </thead>\n",
       "  <tbody>\n",
       "    <tr>\n",
       "      <th>0</th>\n",
       "      <td>BDCAEROD0000000017183099_runway_3_gridsize_512...</td>\n",
       "      <td>0</td>\n",
       "      <td>0</td>\n",
       "      <td>1</td>\n",
       "      <td>1</td>\n",
       "      <td>0</td>\n",
       "    </tr>\n",
       "    <tr>\n",
       "      <th>1</th>\n",
       "      <td>BDCAEROD0000000017183055_runway_1_gridsize_512...</td>\n",
       "      <td>0</td>\n",
       "      <td>0</td>\n",
       "      <td>1</td>\n",
       "      <td>0</td>\n",
       "      <td>0</td>\n",
       "    </tr>\n",
       "    <tr>\n",
       "      <th>2</th>\n",
       "      <td>BDCAEROD0000000017183118_runway_1_gridsize_512...</td>\n",
       "      <td>1</td>\n",
       "      <td>0</td>\n",
       "      <td>1</td>\n",
       "      <td>0</td>\n",
       "      <td>0</td>\n",
       "    </tr>\n",
       "    <tr>\n",
       "      <th>3</th>\n",
       "      <td>BDCAEROD0000000017183028_runway_1_gridsize_512...</td>\n",
       "      <td>1</td>\n",
       "      <td>0</td>\n",
       "      <td>0</td>\n",
       "      <td>0</td>\n",
       "      <td>0</td>\n",
       "    </tr>\n",
       "    <tr>\n",
       "      <th>4</th>\n",
       "      <td>BDCAEROD0000000017183088_runway_1_gridsize_512...</td>\n",
       "      <td>0</td>\n",
       "      <td>0</td>\n",
       "      <td>0</td>\n",
       "      <td>0</td>\n",
       "      <td>0</td>\n",
       "    </tr>\n",
       "    <tr>\n",
       "      <th>...</th>\n",
       "      <td>...</td>\n",
       "      <td>...</td>\n",
       "      <td>...</td>\n",
       "      <td>...</td>\n",
       "      <td>...</td>\n",
       "      <td>...</td>\n",
       "    </tr>\n",
       "    <tr>\n",
       "      <th>825</th>\n",
       "      <td>BDCAEROD0000000017183055_runway_1_gridsize_512...</td>\n",
       "      <td>0</td>\n",
       "      <td>0</td>\n",
       "      <td>0</td>\n",
       "      <td>0</td>\n",
       "      <td>0</td>\n",
       "    </tr>\n",
       "    <tr>\n",
       "      <th>826</th>\n",
       "      <td>BDCAEROD0000000017183095_runway_1_gridsize_512...</td>\n",
       "      <td>1</td>\n",
       "      <td>1</td>\n",
       "      <td>1</td>\n",
       "      <td>0</td>\n",
       "      <td>1</td>\n",
       "    </tr>\n",
       "    <tr>\n",
       "      <th>827</th>\n",
       "      <td>BDCAEROD0000000017182994_runway_1_gridsize_512...</td>\n",
       "      <td>0</td>\n",
       "      <td>1</td>\n",
       "      <td>0</td>\n",
       "      <td>1</td>\n",
       "      <td>0</td>\n",
       "    </tr>\n",
       "    <tr>\n",
       "      <th>828</th>\n",
       "      <td>BDCAEROD0000000017183099_runway_3_gridsize_512...</td>\n",
       "      <td>0</td>\n",
       "      <td>1</td>\n",
       "      <td>1</td>\n",
       "      <td>1</td>\n",
       "      <td>0</td>\n",
       "    </tr>\n",
       "    <tr>\n",
       "      <th>829</th>\n",
       "      <td>BDCAEROD0000000017183119_runway_1_gridsize_512...</td>\n",
       "      <td>0</td>\n",
       "      <td>0</td>\n",
       "      <td>0</td>\n",
       "      <td>1</td>\n",
       "      <td>0</td>\n",
       "    </tr>\n",
       "  </tbody>\n",
       "</table>\n",
       "<p>830 rows × 6 columns</p>\n",
       "</div>"
      ],
      "text/plain": [
       "                                              filename  FISSURE  REPARATION  \\\n",
       "0    BDCAEROD0000000017183099_runway_3_gridsize_512...        0           0   \n",
       "1    BDCAEROD0000000017183055_runway_1_gridsize_512...        0           0   \n",
       "2    BDCAEROD0000000017183118_runway_1_gridsize_512...        1           0   \n",
       "3    BDCAEROD0000000017183028_runway_1_gridsize_512...        1           0   \n",
       "4    BDCAEROD0000000017183088_runway_1_gridsize_512...        0           0   \n",
       "..                                                 ...      ...         ...   \n",
       "825  BDCAEROD0000000017183055_runway_1_gridsize_512...        0           0   \n",
       "826  BDCAEROD0000000017183095_runway_1_gridsize_512...        1           1   \n",
       "827  BDCAEROD0000000017182994_runway_1_gridsize_512...        0           1   \n",
       "828  BDCAEROD0000000017183099_runway_3_gridsize_512...        0           1   \n",
       "829  BDCAEROD0000000017183119_runway_1_gridsize_512...        0           0   \n",
       "\n",
       "     FISSURE LONGITUDINALE  FAÏENCAGE  MISE EN DALLE  \n",
       "0                        1          1              0  \n",
       "1                        1          0              0  \n",
       "2                        1          0              0  \n",
       "3                        0          0              0  \n",
       "4                        0          0              0  \n",
       "..                     ...        ...            ...  \n",
       "825                      0          0              0  \n",
       "826                      1          0              1  \n",
       "827                      0          1              0  \n",
       "828                      1          1              0  \n",
       "829                      0          1              0  \n",
       "\n",
       "[830 rows x 6 columns]"
      ]
     },
     "execution_count": 34,
     "metadata": {},
     "output_type": "execute_result"
    }
   ],
   "source": [
    "train_labels"
   ]
  },
  {
   "cell_type": "code",
   "execution_count": 35,
   "id": "62d99541-a052-4b31-97e4-fc7c23360ebf",
   "metadata": {},
   "outputs": [
    {
     "name": "stderr",
     "output_type": "stream",
     "text": [
      "100%|██████████| 830/830 [00:05<00:00, 153.87it/s]\n"
     ]
    }
   ],
   "source": [
    "train_image = []\n",
    "for i in tqdm(range(train_labels.shape[0])):\n",
    "    img = load_img(dataset_path + \"train/\" + train_labels[\"filename\"][i], target_size=(400,400,3))\n",
    "    img = img_to_array(img)\n",
    "    img = img/255\n",
    "    train_image.append(img)\n",
    "X = np.array(train_image)"
   ]
  },
  {
   "cell_type": "code",
   "execution_count": 36,
   "id": "9cde9435-27e3-424a-b45a-3574297feb11",
   "metadata": {},
   "outputs": [
    {
     "data": {
      "text/plain": [
       "<matplotlib.image.AxesImage at 0x7f0873fccd60>"
      ]
     },
     "execution_count": 36,
     "metadata": {},
     "output_type": "execute_result"
    },
    {
     "data": {
      "image/png": "[encoded data removed]",
      "text/plain": [
       "<Figure size 432x288 with 1 Axes>"
      ]
     },
     "metadata": {
      "needs_background": "light"
     },
     "output_type": "display_data"
    }
   ],
   "source": [
    "plt.imshow(X[2])"
   ]
  },
  {
   "cell_type": "code",
   "execution_count": 37,
   "id": "437b1931-0a64-4b57-ae8b-7f41f7cde61b",
   "metadata": {},
   "outputs": [],
   "source": [
    "y = np.array(train_labels.drop([\"filename\"], axis=1))"
   ]
  },
  {
   "cell_type": "code",
   "execution_count": 38,
   "id": "da5853d6-1001-47e1-90a4-d070bdd5162a",
   "metadata": {},
   "outputs": [
    {
     "data": {
      "text/plain": [
       "array([[0, 0, 1, 1, 0],\n",
       "       [0, 0, 1, 0, 0],\n",
       "       [1, 0, 1, 0, 0],\n",
       "       ...,\n",
       "       [0, 1, 0, 1, 0],\n",
       "       [0, 1, 1, 1, 0],\n",
       "       [0, 0, 0, 1, 0]])"
      ]
     },
     "execution_count": 38,
     "metadata": {},
     "output_type": "execute_result"
    }
   ],
   "source": [
    "y"
   ]
  },
  {
   "cell_type": "code",
   "execution_count": 39,
   "id": "e9114ce3-4e3b-4658-84d2-7ce2d04a53d2",
   "metadata": {},
   "outputs": [],
   "source": [
    "X_train, X_test, y_train, y_test = train_test_split(X, y, random_state=42, test_size=0.2)\n"
   ]
  },
  {
   "cell_type": "code",
   "execution_count": 40,
   "id": "0412a7b3-4d35-4277-b3f6-85194c177192",
   "metadata": {},
   "outputs": [],
   "source": [
    "from keras import backend as K\n",
    "\n",
    "def recall_m(y_true, y_pred):\n",
    "    true_positives = K.sum(K.round(K.clip(y_true * y_pred, 0, 1)))\n",
    "    possible_positives = K.sum(K.round(K.clip(y_true, 0, 1)))\n",
    "    recall = true_positives / (possible_positives + K.epsilon())\n",
    "    return recall\n",
    "\n",
    "def precision_m(y_true, y_pred):\n",
    "    true_positives = K.sum(K.round(K.clip(y_true * y_pred, 0, 1)))\n",
    "    predicted_positives = K.sum(K.round(K.clip(y_pred, 0, 1)))\n",
    "    precision = true_positives / (predicted_positives + K.epsilon())\n",
    "    return precision\n",
    "\n",
    "def f1_m(y_true, y_pred):\n",
    "    precision = precision_m(y_true, y_pred)\n",
    "    recall = recall_m(y_true, y_pred)\n",
    "    return 2*((precision*recall)/(precision+recall+K.epsilon()))"
   ]
  },
  {
   "cell_type": "code",
   "execution_count": 41,
   "id": "b999edbd-f7ae-40c3-aa02-667057f113f2",
   "metadata": {},
   "outputs": [],
   "source": [
    "model = Sequential()\n",
    "model.add(Conv2D(filters=16, kernel_size=(5, 5), activation=\"relu\", input_shape=(400,400,3)))\n",
    "model.add(MaxPooling2D(pool_size=(2, 2)))\n",
    "model.add(Dropout(0.25))\n",
    "model.add(Conv2D(filters=32, kernel_size=(5, 5), activation='relu'))\n",
    "model.add(MaxPooling2D(pool_size=(2, 2)))\n",
    "model.add(Dropout(0.25))\n",
    "model.add(Conv2D(filters=64, kernel_size=(5, 5), activation=\"relu\"))\n",
    "model.add(MaxPooling2D(pool_size=(2, 2)))\n",
    "model.add(Dropout(0.25))\n",
    "model.add(Conv2D(filters=64, kernel_size=(5, 5), activation='relu'))\n",
    "model.add(MaxPooling2D(pool_size=(2, 2)))\n",
    "model.add(Dropout(0.25))\n",
    "model.add(Flatten())\n",
    "model.add(Dense(128, activation='relu'))\n",
    "model.add(Dropout(0.5))\n",
    "model.add(Dense(64, activation='relu'))\n",
    "model.add(Dropout(0.5))\n",
    "model.add(Dense(5, activation='sigmoid'))"
   ]
  },
  {
   "cell_type": "code",
   "execution_count": 42,
   "id": "c66dbf85-bcd2-484d-88fa-f18b1bb17653",
   "metadata": {},
   "outputs": [],
   "source": [
    "model.compile(optimizer='adam', loss='binary_crossentropy', metrics=['acc'])\n"
   ]
  },
  {
   "cell_type": "code",
   "execution_count": 44,
   "id": "fd285fb8-b1f0-4b9c-8935-2853918586f5",
   "metadata": {},
   "outputs": [
    {
     "name": "stdout",
     "output_type": "stream",
     "text": [
      "Epoch 1/20\n",
      "11/11 [==============================] - 5s 178ms/step - loss: 0.4470 - acc: 0.6099 - val_loss: 0.3994 - val_acc: 0.9036\n",
      "Epoch 2/20\n",
      "11/11 [==============================] - 1s 119ms/step - loss: 0.4417 - acc: 0.5994 - val_loss: 0.4060 - val_acc: 0.8072\n",
      "Epoch 3/20\n",
      "11/11 [==============================] - 1s 119ms/step - loss: 0.4263 - acc: 0.5572 - val_loss: 0.3862 - val_acc: 0.7108\n",
      "Epoch 4/20\n",
      "11/11 [==============================] - 1s 118ms/step - loss: 0.4155 - acc: 0.5617 - val_loss: 0.3835 - val_acc: 0.6566\n",
      "Epoch 5/20\n",
      "11/11 [==============================] - 1s 117ms/step - loss: 0.3973 - acc: 0.5542 - val_loss: 0.3975 - val_acc: 0.6446\n",
      "Epoch 6/20\n",
      "11/11 [==============================] - 1s 119ms/step - loss: 0.3961 - acc: 0.5572 - val_loss: 0.3817 - val_acc: 0.5964\n",
      "Epoch 7/20\n",
      "11/11 [==============================] - 1s 118ms/step - loss: 0.3795 - acc: 0.5738 - val_loss: 0.3692 - val_acc: 0.6807\n",
      "Epoch 8/20\n",
      "11/11 [==============================] - 1s 116ms/step - loss: 0.3753 - acc: 0.6431 - val_loss: 0.3698 - val_acc: 0.7771\n",
      "Epoch 9/20\n",
      "11/11 [==============================] - 1s 119ms/step - loss: 0.3734 - acc: 0.6084 - val_loss: 0.3734 - val_acc: 0.7590\n",
      "Epoch 10/20\n",
      "11/11 [==============================] - 1s 117ms/step - loss: 0.3566 - acc: 0.5813 - val_loss: 0.3736 - val_acc: 0.5663\n",
      "Epoch 11/20\n",
      "11/11 [==============================] - 1s 118ms/step - loss: 0.3682 - acc: 0.5602 - val_loss: 0.3637 - val_acc: 0.4157\n",
      "Epoch 12/20\n",
      "11/11 [==============================] - 1s 117ms/step - loss: 0.3419 - acc: 0.5331 - val_loss: 0.3663 - val_acc: 0.6566\n",
      "Epoch 13/20\n",
      "11/11 [==============================] - 1s 116ms/step - loss: 0.3466 - acc: 0.5798 - val_loss: 0.3747 - val_acc: 0.6446\n",
      "Epoch 14/20\n",
      "11/11 [==============================] - 1s 127ms/step - loss: 0.3392 - acc: 0.5873 - val_loss: 0.3670 - val_acc: 0.5301\n",
      "Epoch 15/20\n",
      "11/11 [==============================] - 1s 120ms/step - loss: 0.3198 - acc: 0.5648 - val_loss: 0.3708 - val_acc: 0.6084\n",
      "Epoch 16/20\n",
      "11/11 [==============================] - 1s 119ms/step - loss: 0.3085 - acc: 0.5858 - val_loss: 0.3634 - val_acc: 0.5904\n",
      "Epoch 17/20\n",
      "11/11 [==============================] - 1s 119ms/step - loss: 0.2951 - acc: 0.5467 - val_loss: 0.3770 - val_acc: 0.6145\n",
      "Epoch 18/20\n",
      "11/11 [==============================] - 1s 117ms/step - loss: 0.2972 - acc: 0.5693 - val_loss: 0.3815 - val_acc: 0.6386\n",
      "Epoch 19/20\n",
      "11/11 [==============================] - 1s 120ms/step - loss: 0.2881 - acc: 0.6069 - val_loss: 0.4328 - val_acc: 0.5904\n",
      "Epoch 20/20\n",
      "11/11 [==============================] - 1s 123ms/step - loss: 0.2901 - acc: 0.6220 - val_loss: 0.3843 - val_acc: 0.5964\n"
     ]
    },
    {
     "data": {
      "text/plain": [
       "<keras.callbacks.History at 0x7f08155be610>"
      ]
     },
     "execution_count": 44,
     "metadata": {},
     "output_type": "execute_result"
    }
   ],
   "source": [
    "model.fit(X_train, y_train, epochs=20, validation_data=(X_test, y_test), batch_size=64)\n"
   ]
  },
  {
   "cell_type": "code",
   "execution_count": null,
   "id": "26371732-df42-4a8a-91bb-6a9d15e3df4e",
   "metadata": {},
   "outputs": [],
   "source": []
  },
  {
   "cell_type": "code",
   "execution_count": null,
   "id": "84d72148-af66-477d-86b2-85a37506fa28",
   "metadata": {},
   "outputs": [],
   "source": []
  }
 ],
 "metadata": {
  "kernelspec": {
   "display_name": "Python 3 (ipykernel)",
   "language": "python",
   "name": "python3"
  },
  "language_info": {
   "codemirror_mode": {
    "name": "ipython",
    "version": 3
   },
   "file_extension": ".py",
   "mimetype": "text/x-python",
   "name": "python",
   "nbconvert_exporter": "python",
   "pygments_lexer": "ipython3",
   "version": "3.8.13"
  }
 },
 "nbformat": 4,
 "nbformat_minor": 5
}
