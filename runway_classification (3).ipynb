{
 "cells": [
  {
   "cell_type": "code",
   "execution_count": 211,
   "id": "37a46420-993e-4fbc-8262-b8771d76baff",
   "metadata": {},
   "outputs": [],
   "source": [
    "from pathlib import Path\n",
    "import pandas as pd\n",
    "import numpy as np\n",
    "from tqdm import tqdm\n",
    "import matplotlib.pyplot as plt\n",
    "from sklearn.model_selection import train_test_split\n",
    "import random as rand\n",
    "#!pip install opencv-python\n",
    "import cv2\n",
    "import math\n",
    "\n",
    "import tensorflow as tf\n",
    "from tensorflow.keras.utils import set_random_seed\n",
    "from tensorflow.keras.utils import load_img\n",
    "from tensorflow.keras.utils import img_to_array\n",
    "from tensorflow.keras.models import Sequential\n",
    "from tensorflow.keras.layers import Dense, Dropout, Flatten\n",
    "from tensorflow.keras.layers import Conv2D, MaxPooling2D\n",
    "from tensorflow.keras.metrics import AUC\n",
    "from tensorflow.keras.preprocessing.image import ImageDataGenerator\n",
    "from tensorflow.keras import layers\n",
    "from tensorflow.keras.callbacks import EarlyStopping\n"
   ]
  },
  {
   "cell_type": "code",
   "execution_count": 212,
   "id": "90471d31-325b-4d78-8c6c-620d60145f4b",
   "metadata": {},
   "outputs": [],
   "source": [
    "set_random_seed(3)"
   ]
  },
  {
   "cell_type": "code",
   "execution_count": 255,
   "id": "2f1bf288-6983-497d-957e-2e062701d9a9",
   "metadata": {},
   "outputs": [],
   "source": [
    "#Functions\n",
    "\n",
    "\n",
    "from keras import backend as K\n",
    "\n",
    "def oversampler(X, y):    \n",
    "    X = list(X)\n",
    "    counter = int(y.mean() * len(y))\n",
    "    angles = [90, 180, 270]\n",
    "    i = 0\n",
    "    angle = 90\n",
    "    while counter / len(y) < 0.5:\n",
    "        for i in range(len(y)):\n",
    "            if y[i] == 1:\n",
    "                # get dims, find center\n",
    "                image = X[i]\n",
    "                (h, w) = image.shape[:2]\n",
    "                (cX, cY) = (w // 2, h // 2)\n",
    "\n",
    "                # grab the rotation matrix (applying the negative of the\n",
    "                # angle to rotate clockwise), then grab the sine and cosine\n",
    "                # (i.e., the rotation components of the matrix)\n",
    "                M = cv2.getRotationMatrix2D((cX, cY), angle, 1.0)\n",
    "                cos = np.abs(M[0, 0])\n",
    "                sin = np.abs(M[0, 1])\n",
    "\n",
    "                # compute the new bounding dimensions of the image\n",
    "                nW = int((h * sin) + (w * cos))\n",
    "                nH = int((h * cos) + (w * sin))\n",
    "\n",
    "                # adjust the rotation matrix to take into account translation\n",
    "                M[0, 2] += (nW / 2) - cX\n",
    "                M[1, 2] += (nH / 2) - cY\n",
    "\n",
    "                # perform the actual rotation and return the image\n",
    "                image = cv2.warpAffine(image, M, (nW, nH), False)\n",
    "\n",
    "                X.append(image)\n",
    "                y = np.append(y, y[i])\n",
    "                counter += 1\n",
    "            if counter / len(y) >= 0.5:\n",
    "                break\n",
    "\n",
    "        i += 1\n",
    "        angle = angles[i%3]\n",
    "    X = np.array(X)\n",
    "    return X, y\n"
   ]
  },
  {
   "cell_type": "code",
   "execution_count": 256,
   "id": "32154311-ea5b-4e2b-89fe-cb1c973e0861",
   "metadata": {},
   "outputs": [],
   "source": [
    "dataset_path = \"hfactory_magic_folders/colas_data_challenge/computer_vision_challenge/dataset/\""
   ]
  },
  {
   "cell_type": "code",
   "execution_count": 257,
   "id": "57720169-2605-4698-a7a0-4b84f3bcf33a",
   "metadata": {},
   "outputs": [],
   "source": [
    "train_labels = pd.read_csv(dataset_path + \"labels_train.csv\")\n"
   ]
  },
  {
   "cell_type": "code",
   "execution_count": 258,
   "id": "faf208fc-a93d-491b-bed5-3692c65b7b5c",
   "metadata": {},
   "outputs": [
    {
     "data": {
      "text/html": [
       "<div>\n",
       "<style scoped>\n",
       "    .dataframe tbody tr th:only-of-type {\n",
       "        vertical-align: middle;\n",
       "    }\n",
       "\n",
       "    .dataframe tbody tr th {\n",
       "        vertical-align: top;\n",
       "    }\n",
       "\n",
       "    .dataframe thead th {\n",
       "        text-align: right;\n",
       "    }\n",
       "</style>\n",
       "<table border=\"1\" class=\"dataframe\">\n",
       "  <thead>\n",
       "    <tr style=\"text-align: right;\">\n",
       "      <th></th>\n",
       "      <th>filename</th>\n",
       "      <th>FISSURE</th>\n",
       "      <th>REPARATION</th>\n",
       "      <th>FISSURE LONGITUDINALE</th>\n",
       "      <th>FAÏENCAGE</th>\n",
       "      <th>MISE EN DALLE</th>\n",
       "    </tr>\n",
       "  </thead>\n",
       "  <tbody>\n",
       "    <tr>\n",
       "      <th>0</th>\n",
       "      <td>BDCAEROD0000000017183099_runway_3_gridsize_512...</td>\n",
       "      <td>0</td>\n",
       "      <td>0</td>\n",
       "      <td>1</td>\n",
       "      <td>1</td>\n",
       "      <td>0</td>\n",
       "    </tr>\n",
       "    <tr>\n",
       "      <th>1</th>\n",
       "      <td>BDCAEROD0000000017183055_runway_1_gridsize_512...</td>\n",
       "      <td>0</td>\n",
       "      <td>0</td>\n",
       "      <td>1</td>\n",
       "      <td>0</td>\n",
       "      <td>0</td>\n",
       "    </tr>\n",
       "    <tr>\n",
       "      <th>2</th>\n",
       "      <td>BDCAEROD0000000017183118_runway_1_gridsize_512...</td>\n",
       "      <td>1</td>\n",
       "      <td>0</td>\n",
       "      <td>1</td>\n",
       "      <td>0</td>\n",
       "      <td>0</td>\n",
       "    </tr>\n",
       "    <tr>\n",
       "      <th>3</th>\n",
       "      <td>BDCAEROD0000000017183028_runway_1_gridsize_512...</td>\n",
       "      <td>1</td>\n",
       "      <td>0</td>\n",
       "      <td>0</td>\n",
       "      <td>0</td>\n",
       "      <td>0</td>\n",
       "    </tr>\n",
       "    <tr>\n",
       "      <th>4</th>\n",
       "      <td>BDCAEROD0000000017183088_runway_1_gridsize_512...</td>\n",
       "      <td>0</td>\n",
       "      <td>0</td>\n",
       "      <td>0</td>\n",
       "      <td>0</td>\n",
       "      <td>0</td>\n",
       "    </tr>\n",
       "    <tr>\n",
       "      <th>...</th>\n",
       "      <td>...</td>\n",
       "      <td>...</td>\n",
       "      <td>...</td>\n",
       "      <td>...</td>\n",
       "      <td>...</td>\n",
       "      <td>...</td>\n",
       "    </tr>\n",
       "    <tr>\n",
       "      <th>825</th>\n",
       "      <td>BDCAEROD0000000017183055_runway_1_gridsize_512...</td>\n",
       "      <td>0</td>\n",
       "      <td>0</td>\n",
       "      <td>0</td>\n",
       "      <td>0</td>\n",
       "      <td>0</td>\n",
       "    </tr>\n",
       "    <tr>\n",
       "      <th>826</th>\n",
       "      <td>BDCAEROD0000000017183095_runway_1_gridsize_512...</td>\n",
       "      <td>1</td>\n",
       "      <td>1</td>\n",
       "      <td>1</td>\n",
       "      <td>0</td>\n",
       "      <td>1</td>\n",
       "    </tr>\n",
       "    <tr>\n",
       "      <th>827</th>\n",
       "      <td>BDCAEROD0000000017182994_runway_1_gridsize_512...</td>\n",
       "      <td>0</td>\n",
       "      <td>1</td>\n",
       "      <td>0</td>\n",
       "      <td>1</td>\n",
       "      <td>0</td>\n",
       "    </tr>\n",
       "    <tr>\n",
       "      <th>828</th>\n",
       "      <td>BDCAEROD0000000017183099_runway_3_gridsize_512...</td>\n",
       "      <td>0</td>\n",
       "      <td>1</td>\n",
       "      <td>1</td>\n",
       "      <td>1</td>\n",
       "      <td>0</td>\n",
       "    </tr>\n",
       "    <tr>\n",
       "      <th>829</th>\n",
       "      <td>BDCAEROD0000000017183119_runway_1_gridsize_512...</td>\n",
       "      <td>0</td>\n",
       "      <td>0</td>\n",
       "      <td>0</td>\n",
       "      <td>1</td>\n",
       "      <td>0</td>\n",
       "    </tr>\n",
       "  </tbody>\n",
       "</table>\n",
       "<p>830 rows × 6 columns</p>\n",
       "</div>"
      ],
      "text/plain": [
       "                                              filename  FISSURE  REPARATION  \\\n",
       "0    BDCAEROD0000000017183099_runway_3_gridsize_512...        0           0   \n",
       "1    BDCAEROD0000000017183055_runway_1_gridsize_512...        0           0   \n",
       "2    BDCAEROD0000000017183118_runway_1_gridsize_512...        1           0   \n",
       "3    BDCAEROD0000000017183028_runway_1_gridsize_512...        1           0   \n",
       "4    BDCAEROD0000000017183088_runway_1_gridsize_512...        0           0   \n",
       "..                                                 ...      ...         ...   \n",
       "825  BDCAEROD0000000017183055_runway_1_gridsize_512...        0           0   \n",
       "826  BDCAEROD0000000017183095_runway_1_gridsize_512...        1           1   \n",
       "827  BDCAEROD0000000017182994_runway_1_gridsize_512...        0           1   \n",
       "828  BDCAEROD0000000017183099_runway_3_gridsize_512...        0           1   \n",
       "829  BDCAEROD0000000017183119_runway_1_gridsize_512...        0           0   \n",
       "\n",
       "     FISSURE LONGITUDINALE  FAÏENCAGE  MISE EN DALLE  \n",
       "0                        1          1              0  \n",
       "1                        1          0              0  \n",
       "2                        1          0              0  \n",
       "3                        0          0              0  \n",
       "4                        0          0              0  \n",
       "..                     ...        ...            ...  \n",
       "825                      0          0              0  \n",
       "826                      1          0              1  \n",
       "827                      0          1              0  \n",
       "828                      1          1              0  \n",
       "829                      0          1              0  \n",
       "\n",
       "[830 rows x 6 columns]"
      ]
     },
     "execution_count": 258,
     "metadata": {},
     "output_type": "execute_result"
    }
   ],
   "source": [
    "train_labels"
   ]
  },
  {
   "cell_type": "code",
   "execution_count": 259,
   "id": "62d99541-a052-4b31-97e4-fc7c23360ebf",
   "metadata": {},
   "outputs": [
    {
     "name": "stderr",
     "output_type": "stream",
     "text": [
      "100%|██████████| 830/830 [00:05<00:00, 140.09it/s]\n"
     ]
    }
   ],
   "source": [
    "train_image = []\n",
    "for i in tqdm(range(train_labels.shape[0])):\n",
    "    img = load_img(dataset_path + \"train/\" + train_labels[\"filename\"][i], target_size=(224,224,3))\n",
    "    img = img_to_array(img)\n",
    "    img = img/255\n",
    "    train_image.append(img)\n",
    "X = np.array(train_image)"
   ]
  },
  {
   "cell_type": "code",
   "execution_count": 260,
   "id": "b7c25d56-ff36-4a9a-8fd8-90be9aa79ddd",
   "metadata": {},
   "outputs": [
    {
     "data": {
      "text/plain": [
       "<matplotlib.image.AxesImage at 0x7fcd062812b0>"
      ]
     },
     "execution_count": 260,
     "metadata": {},
     "output_type": "execute_result"
    },
    {
     "data": {
      "image/png": "[encoded data removed]",
      "text/plain": [
       "<Figure size 432x288 with 1 Axes>"
      ]
     },
     "metadata": {
      "needs_background": "light"
     },
     "output_type": "display_data"
    }
   ],
   "source": [
    "plt.imshow(X[145])\n"
   ]
  },
  {
   "cell_type": "code",
   "execution_count": 261,
   "id": "0e664c9b-f49d-4d81-ab34-0548040ee424",
   "metadata": {},
   "outputs": [],
   "source": [
    "test_labels = pd.read_csv(dataset_path + \"template_test.csv\")\n"
   ]
  },
  {
   "cell_type": "code",
   "execution_count": 262,
   "id": "bdad4142-80e5-43aa-83cd-8ae4795a75ff",
   "metadata": {},
   "outputs": [
    {
     "data": {
      "text/html": [
       "<div>\n",
       "<style scoped>\n",
       "    .dataframe tbody tr th:only-of-type {\n",
       "        vertical-align: middle;\n",
       "    }\n",
       "\n",
       "    .dataframe tbody tr th {\n",
       "        vertical-align: top;\n",
       "    }\n",
       "\n",
       "    .dataframe thead th {\n",
       "        text-align: right;\n",
       "    }\n",
       "</style>\n",
       "<table border=\"1\" class=\"dataframe\">\n",
       "  <thead>\n",
       "    <tr style=\"text-align: right;\">\n",
       "      <th></th>\n",
       "      <th>filename</th>\n",
       "      <th>FISSURE</th>\n",
       "      <th>REPARATION</th>\n",
       "      <th>FISSURE LONGITUDINALE</th>\n",
       "      <th>FAÏENCAGE</th>\n",
       "      <th>MISE EN DALLE</th>\n",
       "    </tr>\n",
       "  </thead>\n",
       "  <tbody>\n",
       "    <tr>\n",
       "      <th>0</th>\n",
       "      <td>BDCAEROD0000000017183099_runway_2_gridsize_512...</td>\n",
       "      <td>0</td>\n",
       "      <td>0</td>\n",
       "      <td>0</td>\n",
       "      <td>0</td>\n",
       "      <td>0</td>\n",
       "    </tr>\n",
       "    <tr>\n",
       "      <th>1</th>\n",
       "      <td>BDCAEROD0000000017183016_runway_1_gridsize_512...</td>\n",
       "      <td>0</td>\n",
       "      <td>0</td>\n",
       "      <td>0</td>\n",
       "      <td>0</td>\n",
       "      <td>0</td>\n",
       "    </tr>\n",
       "    <tr>\n",
       "      <th>2</th>\n",
       "      <td>BDCAEROD0000000017183040_runway_1_gridsize_512...</td>\n",
       "      <td>0</td>\n",
       "      <td>0</td>\n",
       "      <td>0</td>\n",
       "      <td>0</td>\n",
       "      <td>0</td>\n",
       "    </tr>\n",
       "    <tr>\n",
       "      <th>3</th>\n",
       "      <td>BDCAEROD0000000017183010_runway_1_gridsize_512...</td>\n",
       "      <td>0</td>\n",
       "      <td>0</td>\n",
       "      <td>0</td>\n",
       "      <td>0</td>\n",
       "      <td>0</td>\n",
       "    </tr>\n",
       "    <tr>\n",
       "      <th>4</th>\n",
       "      <td>BDCAEROD0000000017183107_runway_2_gridsize_512...</td>\n",
       "      <td>0</td>\n",
       "      <td>0</td>\n",
       "      <td>0</td>\n",
       "      <td>0</td>\n",
       "      <td>0</td>\n",
       "    </tr>\n",
       "    <tr>\n",
       "      <th>...</th>\n",
       "      <td>...</td>\n",
       "      <td>...</td>\n",
       "      <td>...</td>\n",
       "      <td>...</td>\n",
       "      <td>...</td>\n",
       "      <td>...</td>\n",
       "    </tr>\n",
       "    <tr>\n",
       "      <th>195</th>\n",
       "      <td>BDCAEROD0000000017183053_runway_1_gridsize_512...</td>\n",
       "      <td>0</td>\n",
       "      <td>0</td>\n",
       "      <td>0</td>\n",
       "      <td>0</td>\n",
       "      <td>0</td>\n",
       "    </tr>\n",
       "    <tr>\n",
       "      <th>196</th>\n",
       "      <td>BDCAEROD0000000017183067_runway_1_gridsize_512...</td>\n",
       "      <td>0</td>\n",
       "      <td>0</td>\n",
       "      <td>0</td>\n",
       "      <td>0</td>\n",
       "      <td>0</td>\n",
       "    </tr>\n",
       "    <tr>\n",
       "      <th>197</th>\n",
       "      <td>BDCAEROD0000000017183053_runway_1_gridsize_512...</td>\n",
       "      <td>0</td>\n",
       "      <td>0</td>\n",
       "      <td>0</td>\n",
       "      <td>0</td>\n",
       "      <td>0</td>\n",
       "    </tr>\n",
       "    <tr>\n",
       "      <th>198</th>\n",
       "      <td>BDCAEROD0000000017183092_runway_2_gridsize_512...</td>\n",
       "      <td>0</td>\n",
       "      <td>0</td>\n",
       "      <td>0</td>\n",
       "      <td>0</td>\n",
       "      <td>0</td>\n",
       "    </tr>\n",
       "    <tr>\n",
       "      <th>199</th>\n",
       "      <td>BDCAEROD0000000017183103_runway_1_gridsize_512...</td>\n",
       "      <td>0</td>\n",
       "      <td>0</td>\n",
       "      <td>0</td>\n",
       "      <td>0</td>\n",
       "      <td>0</td>\n",
       "    </tr>\n",
       "  </tbody>\n",
       "</table>\n",
       "<p>200 rows × 6 columns</p>\n",
       "</div>"
      ],
      "text/plain": [
       "                                              filename  FISSURE  REPARATION  \\\n",
       "0    BDCAEROD0000000017183099_runway_2_gridsize_512...        0           0   \n",
       "1    BDCAEROD0000000017183016_runway_1_gridsize_512...        0           0   \n",
       "2    BDCAEROD0000000017183040_runway_1_gridsize_512...        0           0   \n",
       "3    BDCAEROD0000000017183010_runway_1_gridsize_512...        0           0   \n",
       "4    BDCAEROD0000000017183107_runway_2_gridsize_512...        0           0   \n",
       "..                                                 ...      ...         ...   \n",
       "195  BDCAEROD0000000017183053_runway_1_gridsize_512...        0           0   \n",
       "196  BDCAEROD0000000017183067_runway_1_gridsize_512...        0           0   \n",
       "197  BDCAEROD0000000017183053_runway_1_gridsize_512...        0           0   \n",
       "198  BDCAEROD0000000017183092_runway_2_gridsize_512...        0           0   \n",
       "199  BDCAEROD0000000017183103_runway_1_gridsize_512...        0           0   \n",
       "\n",
       "     FISSURE LONGITUDINALE  FAÏENCAGE  MISE EN DALLE  \n",
       "0                        0          0              0  \n",
       "1                        0          0              0  \n",
       "2                        0          0              0  \n",
       "3                        0          0              0  \n",
       "4                        0          0              0  \n",
       "..                     ...        ...            ...  \n",
       "195                      0          0              0  \n",
       "196                      0          0              0  \n",
       "197                      0          0              0  \n",
       "198                      0          0              0  \n",
       "199                      0          0              0  \n",
       "\n",
       "[200 rows x 6 columns]"
      ]
     },
     "execution_count": 262,
     "metadata": {},
     "output_type": "execute_result"
    }
   ],
   "source": [
    "test_labels"
   ]
  },
  {
   "cell_type": "code",
   "execution_count": 263,
   "id": "e1ba71c0-9a33-4ef9-bea7-030b303cfc71",
   "metadata": {},
   "outputs": [
    {
     "name": "stderr",
     "output_type": "stream",
     "text": [
      "100%|██████████| 200/200 [00:01<00:00, 144.15it/s]\n"
     ]
    }
   ],
   "source": [
    "test_images = []\n",
    "for i in tqdm(range(test_labels.shape[0])):\n",
    "    img = load_img(dataset_path + \"test/\" + test_labels[\"filename\"][i], target_size=(224,224,3))\n",
    "    img = img_to_array(img)\n",
    "    img = img/255\n",
    "    test_images.append(img)\n",
    "test_images = np.array(test_images)\n"
   ]
  },
  {
   "cell_type": "markdown",
   "id": "7844a6fb-0ac7-4fa3-8512-80a5badce494",
   "metadata": {},
   "source": [
    "### One Model for Each Output"
   ]
  },
  {
   "cell_type": "code",
   "execution_count": 264,
   "id": "d8e7c556-ca05-43cd-a97d-85d6b3cdb8ba",
   "metadata": {},
   "outputs": [],
   "source": [
    "from tensorflow.keras.applications.vgg16 import VGG16\n",
    "\n",
    "base_model = VGG16(input_shape = (224, 224, 3), # Shape of our images\n",
    "include_top = False, # Leave out the last fully connected layer\n",
    "weights = 'imagenet')\n",
    "\n",
    "\n",
    "for layer in base_model.layers:\n",
    "    layer.trainable = False"
   ]
  },
  {
   "cell_type": "code",
   "execution_count": 265,
   "id": "3cf5fb98-3103-4848-8e27-ea870669fe6c",
   "metadata": {},
   "outputs": [],
   "source": [
    "# Flatten the output layer to 1 dimension\n",
    "x = layers.Flatten()(base_model.output)\n",
    "\n",
    "# Add a fully connected layer with 512 hidden units and ReLU activation\n",
    "x = layers.Dense(512, activation='relu')(x)\n",
    "\n",
    "# Add a dropout rate of 0.5\n",
    "x = layers.Dropout(0.5)(x)\n",
    "\n",
    "# Add a final sigmoid layer with 1 node for classification output\n",
    "x = layers.Dense(1, activation='sigmoid')(x)\n",
    "\n",
    "model = tf.keras.models.Model(base_model.input, x)\n",
    "\n",
    "model.compile(optimizer = tf.keras.optimizers.RMSprop(learning_rate=0.0001), loss = 'binary_crossentropy',metrics = ['acc', AUC()])"
   ]
  },
  {
   "cell_type": "code",
   "execution_count": 266,
   "id": "f5c5cf03-13fc-475d-8ac2-31dd93f10717",
   "metadata": {},
   "outputs": [
    {
     "name": "stdout",
     "output_type": "stream",
     "text": [
      "Model: \"model_6\"\n",
      "_________________________________________________________________\n",
      " Layer (type)                Output Shape              Param #   \n",
      "=================================================================\n",
      " input_7 (InputLayer)        [(None, 224, 224, 3)]     0         \n",
      "                                                                 \n",
      " block1_conv1 (Conv2D)       (None, 224, 224, 64)      1792      \n",
      "                                                                 \n",
      " block1_conv2 (Conv2D)       (None, 224, 224, 64)      36928     \n",
      "                                                                 \n",
      " block1_pool (MaxPooling2D)  (None, 112, 112, 64)      0         \n",
      "                                                                 \n",
      " block2_conv1 (Conv2D)       (None, 112, 112, 128)     73856     \n",
      "                                                                 \n",
      " block2_conv2 (Conv2D)       (None, 112, 112, 128)     147584    \n",
      "                                                                 \n",
      " block2_pool (MaxPooling2D)  (None, 56, 56, 128)       0         \n",
      "                                                                 \n",
      " block3_conv1 (Conv2D)       (None, 56, 56, 256)       295168    \n",
      "                                                                 \n",
      " block3_conv2 (Conv2D)       (None, 56, 56, 256)       590080    \n",
      "                                                                 \n",
      " block3_conv3 (Conv2D)       (None, 56, 56, 256)       590080    \n",
      "                                                                 \n",
      " block3_pool (MaxPooling2D)  (None, 28, 28, 256)       0         \n",
      "                                                                 \n",
      " block4_conv1 (Conv2D)       (None, 28, 28, 512)       1180160   \n",
      "                                                                 \n",
      " block4_conv2 (Conv2D)       (None, 28, 28, 512)       2359808   \n",
      "                                                                 \n",
      " block4_conv3 (Conv2D)       (None, 28, 28, 512)       2359808   \n",
      "                                                                 \n",
      " block4_pool (MaxPooling2D)  (None, 14, 14, 512)       0         \n",
      "                                                                 \n",
      " block5_conv1 (Conv2D)       (None, 14, 14, 512)       2359808   \n",
      "                                                                 \n",
      " block5_conv2 (Conv2D)       (None, 14, 14, 512)       2359808   \n",
      "                                                                 \n",
      " block5_conv3 (Conv2D)       (None, 14, 14, 512)       2359808   \n",
      "                                                                 \n",
      " block5_pool (MaxPooling2D)  (None, 7, 7, 512)         0         \n",
      "                                                                 \n",
      " flatten_6 (Flatten)         (None, 25088)             0         \n",
      "                                                                 \n",
      " dense_12 (Dense)            (None, 512)               12845568  \n",
      "                                                                 \n",
      " dropout_6 (Dropout)         (None, 512)               0         \n",
      "                                                                 \n",
      " dense_13 (Dense)            (None, 1)                 513       \n",
      "                                                                 \n",
      "=================================================================\n",
      "Total params: 27,560,769\n",
      "Trainable params: 12,846,081\n",
      "Non-trainable params: 14,714,688\n",
      "_________________________________________________________________\n"
     ]
    }
   ],
   "source": [
    "model.summary()"
   ]
  },
  {
   "cell_type": "code",
   "execution_count": 267,
   "id": "84d72148-af66-477d-86b2-85a37506fa28",
   "metadata": {},
   "outputs": [],
   "source": [
    "y_fissure = np.array(train_labels[\"FISSURE\"])\n",
    "y_reparation = np.array(train_labels[\"REPARATION\"])\n",
    "y_longi = np.array(train_labels[\"FISSURE LONGITUDINALE\"])\n",
    "y_faience = np.array(train_labels[\"FAÏENCAGE\"])\n",
    "y_med = np.array(train_labels[\"MISE EN DALLE\"])"
   ]
  },
  {
   "cell_type": "code",
   "execution_count": 268,
   "id": "264e8e19-f62d-4796-b362-ed7ae75a9aab",
   "metadata": {},
   "outputs": [
    {
     "name": "stdout",
     "output_type": "stream",
     "text": [
      "0.30481927710843376\n",
      "0.12530120481927712\n",
      "0.26987951807228916\n",
      "0.05903614457831325\n",
      "0.13132530120481928\n",
      "830\n"
     ]
    }
   ],
   "source": [
    "print(y_fissure.mean())\n",
    "print(y_reparation.mean())\n",
    "print(y_longi.mean())\n",
    "print(y_faience.mean())\n",
    "print(y_med.mean())\n",
    "print(len(y_fissure))"
   ]
  },
  {
   "cell_type": "markdown",
   "id": "a442575a-2927-40a0-a5b0-6d3a03f4c50b",
   "metadata": {},
   "source": [
    "#### FISSURE"
   ]
  },
  {
   "cell_type": "code",
   "execution_count": 269,
   "id": "ef7e975f-57b4-460b-b22d-c2e3d1828ff2",
   "metadata": {},
   "outputs": [],
   "source": [
    "X_fissure_train, X_fissure_test, y_fissure_train, y_fissure_test = train_test_split(X, y_fissure, test_size=0.2)\n"
   ]
  },
  {
   "cell_type": "code",
   "execution_count": 228,
   "id": "95c72f4e-6639-4504-968a-3fa25c58d2eb",
   "metadata": {},
   "outputs": [],
   "source": [
    "X_fissure_train, y_fissure_train = oversampler(X_fissure_train, y_fissure_train) "
   ]
  },
  {
   "cell_type": "code",
   "execution_count": 229,
   "id": "f89db544-6780-48e5-8275-3dcc92f15ab7",
   "metadata": {},
   "outputs": [
    {
     "name": "stdout",
     "output_type": "stream",
     "text": [
      "930\n",
      "0.5\n",
      "(930, 224, 224, 3)\n"
     ]
    }
   ],
   "source": [
    "print(len(y_fissure_train))\n",
    "print(y_fissure_train.mean())\n",
    "print(X_fissure_train.shape)"
   ]
  },
  {
   "cell_type": "code",
   "execution_count": 230,
   "id": "7d56547b-8ce2-490b-bbf5-23d661f43d05",
   "metadata": {},
   "outputs": [
    {
     "name": "stdout",
     "output_type": "stream",
     "text": [
      "Epoch 1/20\n",
      "30/30 [==============================] - 3s 69ms/step - loss: 0.6929 - acc: 0.7075 - auc_5: 0.7718 - val_loss: 0.8644 - val_acc: 0.4036 - val_auc_5: 0.6734\n",
      "Epoch 2/20\n",
      "30/30 [==============================] - 2s 52ms/step - loss: 0.5327 - acc: 0.7441 - auc_5: 0.8193 - val_loss: 0.9213 - val_acc: 0.6867 - val_auc_5: 0.7008\n",
      "Epoch 3/20\n",
      "30/30 [==============================] - 2s 54ms/step - loss: 0.4650 - acc: 0.7796 - auc_5: 0.8610 - val_loss: 0.8644 - val_acc: 0.4157 - val_auc_5: 0.7364\n",
      "Epoch 4/20\n",
      "30/30 [==============================] - 2s 53ms/step - loss: 0.3965 - acc: 0.8086 - auc_5: 0.8900 - val_loss: 1.2824 - val_acc: 0.3313 - val_auc_5: 0.7344\n",
      "Epoch 5/20\n",
      "30/30 [==============================] - 2s 53ms/step - loss: 0.3700 - acc: 0.8269 - auc_5: 0.9088 - val_loss: 1.3170 - val_acc: 0.3373 - val_auc_5: 0.7647\n",
      "Epoch 6/20\n",
      "30/30 [==============================] - 2s 54ms/step - loss: 0.3407 - acc: 0.8398 - auc_5: 0.9218 - val_loss: 1.0523 - val_acc: 0.6867 - val_auc_5: 0.7728\n",
      "Epoch 7/20\n",
      "30/30 [==============================] - 2s 53ms/step - loss: 0.3424 - acc: 0.8452 - auc_5: 0.9209 - val_loss: 0.6321 - val_acc: 0.7410 - val_auc_5: 0.7721\n",
      "Epoch 8/20\n",
      "30/30 [==============================] - 2s 53ms/step - loss: 0.3148 - acc: 0.8581 - auc_5: 0.9336 - val_loss: 0.5760 - val_acc: 0.7349 - val_auc_5: 0.7872\n",
      "Epoch 9/20\n",
      "30/30 [==============================] - 2s 53ms/step - loss: 0.2380 - acc: 0.9011 - auc_5: 0.9622 - val_loss: 0.5622 - val_acc: 0.7349 - val_auc_5: 0.7789\n",
      "Epoch 10/20\n",
      "30/30 [==============================] - 2s 54ms/step - loss: 0.2798 - acc: 0.8763 - auc_5: 0.9489 - val_loss: 1.1092 - val_acc: 0.4518 - val_auc_5: 0.7799\n",
      "Epoch 11/20\n",
      "30/30 [==============================] - 2s 55ms/step - loss: 0.2634 - acc: 0.8903 - auc_5: 0.9544 - val_loss: 0.5573 - val_acc: 0.7349 - val_auc_5: 0.7810\n",
      "Epoch 12/20\n",
      "30/30 [==============================] - 2s 54ms/step - loss: 0.2587 - acc: 0.8871 - auc_5: 0.9567 - val_loss: 0.5229 - val_acc: 0.7711 - val_auc_5: 0.7964\n",
      "Epoch 13/20\n",
      "30/30 [==============================] - 2s 53ms/step - loss: 0.2211 - acc: 0.8989 - auc_5: 0.9683 - val_loss: 0.6334 - val_acc: 0.7831 - val_auc_5: 0.8038\n",
      "Epoch 14/20\n",
      "30/30 [==============================] - 2s 53ms/step - loss: 0.2290 - acc: 0.9011 - auc_5: 0.9651 - val_loss: 0.5369 - val_acc: 0.7892 - val_auc_5: 0.7968\n",
      "Epoch 15/20\n",
      "30/30 [==============================] - 2s 55ms/step - loss: 0.2070 - acc: 0.9237 - auc_5: 0.9709 - val_loss: 0.7085 - val_acc: 0.7831 - val_auc_5: 0.7999\n",
      "Epoch 16/20\n",
      "30/30 [==============================] - 2s 54ms/step - loss: 0.2206 - acc: 0.9022 - auc_5: 0.9693 - val_loss: 1.2635 - val_acc: 0.4217 - val_auc_5: 0.8024\n",
      "Epoch 17/20\n",
      "30/30 [==============================] - 2s 52ms/step - loss: 0.1751 - acc: 0.9269 - auc_5: 0.9811 - val_loss: 0.9274 - val_acc: 0.7530 - val_auc_5: 0.7980\n",
      "Epoch 18/20\n",
      "30/30 [==============================] - 2s 53ms/step - loss: 0.2163 - acc: 0.9011 - auc_5: 0.9711 - val_loss: 0.6387 - val_acc: 0.7892 - val_auc_5: 0.8055\n",
      "Epoch 19/20\n",
      "30/30 [==============================] - 2s 53ms/step - loss: 0.1542 - acc: 0.9333 - auc_5: 0.9853 - val_loss: 0.7944 - val_acc: 0.7831 - val_auc_5: 0.7967\n",
      "Epoch 20/20\n",
      "30/30 [==============================] - 2s 54ms/step - loss: 0.1670 - acc: 0.9301 - auc_5: 0.9822 - val_loss: 0.5432 - val_acc: 0.7892 - val_auc_5: 0.8059\n"
     ]
    }
   ],
   "source": [
    "vgg1hist = model.fit(X_fissure_train, y_fissure_train, validation_data = (X_fissure_test, y_fissure_test), epochs = 20, batch_size = 32)\n"
   ]
  },
  {
   "cell_type": "code",
   "execution_count": 231,
   "id": "814a76ad-8f1c-47f7-b2bc-753b056b7761",
   "metadata": {},
   "outputs": [
    {
     "name": "stdout",
     "output_type": "stream",
     "text": [
      "0.295\n"
     ]
    }
   ],
   "source": [
    "fissure_pred = model.predict(test_images)\n",
    "fissure_pred.reshape(200)\n",
    "fissure_pred_1 = np.round(fissure_pred)\n",
    "prior_adjusted_fissure_pred = np.round(fissure_pred * y_fissure.mean() / fissure_pred_1.mean())\n",
    "prior_adjusted_fissure_pred = np.array([min(int(i), 1) for i in prior_adjusted_fissure_pred])\n",
    "print(prior_adjusted_fissure_pred.mean())\n"
   ]
  },
  {
   "cell_type": "markdown",
   "id": "4eaed01d-7b37-4770-bcad-5d89cfcc14c7",
   "metadata": {},
   "source": [
    "#### REPARATION"
   ]
  },
  {
   "cell_type": "code",
   "execution_count": 232,
   "id": "27db35aa-e609-42f8-b2e3-b97cd196d435",
   "metadata": {},
   "outputs": [],
   "source": [
    "X_reparation_train, X_reparation_test, y_reparation_train, y_reparation_test = train_test_split(X, y_reparation, test_size=0.2)\n"
   ]
  },
  {
   "cell_type": "code",
   "execution_count": 233,
   "id": "c7691dd8-9a26-4441-94b6-66ccdabf0580",
   "metadata": {},
   "outputs": [],
   "source": [
    "X_reparation_train, y_reparation_train = oversampler(X_reparation_train, y_reparation_train) "
   ]
  },
  {
   "cell_type": "code",
   "execution_count": 234,
   "id": "f58e795f-aac4-4195-89c7-b0d2a71718b7",
   "metadata": {},
   "outputs": [
    {
     "name": "stdout",
     "output_type": "stream",
     "text": [
      "1166\n",
      "0.5\n",
      "(1166, 224, 224, 3)\n"
     ]
    }
   ],
   "source": [
    "print(len(y_reparation_train))\n",
    "print(y_reparation_train.mean())\n",
    "print(X_reparation_train.shape)"
   ]
  },
  {
   "cell_type": "code",
   "execution_count": 235,
   "id": "01c00284-6de7-424e-90e1-18ea05dab234",
   "metadata": {},
   "outputs": [
    {
     "name": "stdout",
     "output_type": "stream",
     "text": [
      "Epoch 1/20\n",
      "37/37 [==============================] - 2s 57ms/step - loss: 0.3259 - acc: 0.8979 - auc_5: 0.9438 - val_loss: 0.4318 - val_acc: 0.8434 - val_auc_5: 0.7052\n",
      "Epoch 2/20\n",
      "37/37 [==============================] - 2s 53ms/step - loss: 0.2392 - acc: 0.9091 - auc_5: 0.9588 - val_loss: 0.4385 - val_acc: 0.8193 - val_auc_5: 0.7251\n",
      "Epoch 3/20\n",
      "37/37 [==============================] - 2s 54ms/step - loss: 0.2013 - acc: 0.9228 - auc_5: 0.9692 - val_loss: 0.4094 - val_acc: 0.8614 - val_auc_5: 0.7142\n",
      "Epoch 4/20\n",
      "37/37 [==============================] - 2s 53ms/step - loss: 0.2048 - acc: 0.9254 - auc_5: 0.9681 - val_loss: 0.4239 - val_acc: 0.8614 - val_auc_5: 0.7473\n",
      "Epoch 5/20\n",
      "37/37 [==============================] - 2s 54ms/step - loss: 0.1824 - acc: 0.9357 - auc_5: 0.9732 - val_loss: 0.3945 - val_acc: 0.8554 - val_auc_5: 0.7630\n",
      "Epoch 6/20\n",
      "37/37 [==============================] - 2s 53ms/step - loss: 0.1674 - acc: 0.9365 - auc_5: 0.9781 - val_loss: 0.4013 - val_acc: 0.8735 - val_auc_5: 0.7539\n",
      "Epoch 7/20\n",
      "37/37 [==============================] - 2s 52ms/step - loss: 0.1719 - acc: 0.9314 - auc_5: 0.9774 - val_loss: 0.4351 - val_acc: 0.8434 - val_auc_5: 0.7501\n",
      "Epoch 8/20\n",
      "37/37 [==============================] - 2s 54ms/step - loss: 0.1562 - acc: 0.9417 - auc_5: 0.9812 - val_loss: 0.3918 - val_acc: 0.8735 - val_auc_5: 0.7704\n",
      "Epoch 9/20\n",
      "37/37 [==============================] - 2s 53ms/step - loss: 0.1376 - acc: 0.9443 - auc_5: 0.9851 - val_loss: 0.3890 - val_acc: 0.8795 - val_auc_5: 0.7711\n",
      "Epoch 10/20\n",
      "37/37 [==============================] - 2s 51ms/step - loss: 0.1418 - acc: 0.9400 - auc_5: 0.9848 - val_loss: 0.4342 - val_acc: 0.8494 - val_auc_5: 0.7665\n",
      "Epoch 11/20\n",
      "37/37 [==============================] - 2s 53ms/step - loss: 0.1257 - acc: 0.9511 - auc_5: 0.9880 - val_loss: 0.4975 - val_acc: 0.8253 - val_auc_5: 0.7665\n",
      "Epoch 12/20\n",
      "37/37 [==============================] - 2s 52ms/step - loss: 0.1222 - acc: 0.9511 - auc_5: 0.9888 - val_loss: 0.4217 - val_acc: 0.8614 - val_auc_5: 0.7771\n",
      "Epoch 13/20\n",
      "37/37 [==============================] - 2s 52ms/step - loss: 0.1191 - acc: 0.9494 - auc_5: 0.9906 - val_loss: 0.4394 - val_acc: 0.8675 - val_auc_5: 0.7902\n",
      "Epoch 14/20\n",
      "37/37 [==============================] - 2s 52ms/step - loss: 0.1115 - acc: 0.9528 - auc_5: 0.9916 - val_loss: 0.4910 - val_acc: 0.8614 - val_auc_5: 0.7483\n",
      "Epoch 15/20\n",
      "37/37 [==============================] - 2s 55ms/step - loss: 0.1061 - acc: 0.9563 - auc_5: 0.9915 - val_loss: 0.4418 - val_acc: 0.8675 - val_auc_5: 0.7841\n",
      "Epoch 16/20\n",
      "37/37 [==============================] - 2s 52ms/step - loss: 0.1049 - acc: 0.9528 - auc_5: 0.9924 - val_loss: 0.4661 - val_acc: 0.8554 - val_auc_5: 0.7624\n",
      "Epoch 17/20\n",
      "37/37 [==============================] - 2s 52ms/step - loss: 0.0873 - acc: 0.9631 - auc_5: 0.9948 - val_loss: 0.6599 - val_acc: 0.8554 - val_auc_5: 0.7265\n",
      "Epoch 18/20\n",
      "37/37 [==============================] - 2s 52ms/step - loss: 0.0912 - acc: 0.9623 - auc_5: 0.9942 - val_loss: 0.6389 - val_acc: 0.8554 - val_auc_5: 0.7250\n",
      "Epoch 19/20\n",
      "37/37 [==============================] - 2s 52ms/step - loss: 0.0857 - acc: 0.9631 - auc_5: 0.9951 - val_loss: 0.5283 - val_acc: 0.8554 - val_auc_5: 0.7347\n",
      "Epoch 20/20\n",
      "37/37 [==============================] - 2s 53ms/step - loss: 0.0931 - acc: 0.9623 - auc_5: 0.9938 - val_loss: 0.5312 - val_acc: 0.8554 - val_auc_5: 0.7414\n"
     ]
    }
   ],
   "source": [
    "vgg2hist = model.fit(X_reparation_train, y_reparation_train, validation_data = (X_reparation_test, y_reparation_test), epochs = 20, batch_size = 32)\n"
   ]
  },
  {
   "cell_type": "code",
   "execution_count": 236,
   "id": "41adb54d-70cf-4bda-9276-28fda6f2c9ab",
   "metadata": {},
   "outputs": [
    {
     "name": "stdout",
     "output_type": "stream",
     "text": [
      "0.07\n",
      "1.790017204083006\n",
      "0.085\n"
     ]
    }
   ],
   "source": [
    "reparation_pred = model.predict(test_images)\n",
    "reparation_pred.reshape(200)\n",
    "reparation_pred_1 = np.round(reparation_pred)\n",
    "print(reparation_pred_1.mean())\n",
    "print(y_reparation.mean() / reparation_pred_1.mean())\n",
    "prior_adjusted_reparation_pred = np.round(reparation_pred * y_reparation.mean() / reparation_pred_1.mean())\n",
    "prior_adjusted_reparation_pred = np.array([min(int(i), 1) for i in prior_adjusted_reparation_pred])\n",
    "print(prior_adjusted_reparation_pred.mean())"
   ]
  },
  {
   "cell_type": "markdown",
   "id": "bd6e0c79-1db8-4105-8570-72c53d6f33a6",
   "metadata": {},
   "source": [
    "#### FISSURE LONGITUDINALE"
   ]
  },
  {
   "cell_type": "code",
   "execution_count": 184,
   "id": "a980d4cc-5fba-410d-add1-c96d06a30eb7",
   "metadata": {},
   "outputs": [],
   "source": [
    "X_longi_train, X_longi_test, y_longi_train, y_longi_test = train_test_split(X, y_longi, test_size=0.2)\n"
   ]
  },
  {
   "cell_type": "code",
   "execution_count": 185,
   "id": "ddf66f97-c418-4880-9ded-1fb50919996a",
   "metadata": {},
   "outputs": [],
   "source": [
    "X_longi_train, y_longi_train = oversampler(X_longi_train, y_longi_train) "
   ]
  },
  {
   "cell_type": "code",
   "execution_count": 186,
   "id": "63842fd2-dfe7-459b-9c7d-c4a49bc8436d",
   "metadata": {},
   "outputs": [
    {
     "name": "stdout",
     "output_type": "stream",
     "text": [
      "956\n",
      "0.5\n",
      "(956, 224, 224, 3)\n"
     ]
    }
   ],
   "source": [
    "print(len(y_longi_train))\n",
    "print(y_longi_train.mean())\n",
    "print(X_longi_train.shape)"
   ]
  },
  {
   "cell_type": "code",
   "execution_count": 243,
   "id": "1d989fe7-eaaa-45fa-b0b0-b788594296e7",
   "metadata": {},
   "outputs": [
    {
     "name": "stdout",
     "output_type": "stream",
     "text": [
      "Epoch 1/20\n",
      "30/30 [==============================] - 2s 61ms/step - loss: 0.4560 - acc: 0.8274 - auc_5: 0.8936 - val_loss: 0.4618 - val_acc: 0.8133 - val_auc_5: 0.7984\n",
      "Epoch 2/20\n",
      "30/30 [==============================] - 2s 54ms/step - loss: 0.3843 - acc: 0.8410 - auc_5: 0.9064 - val_loss: 0.4384 - val_acc: 0.8133 - val_auc_5: 0.8085\n",
      "Epoch 3/20\n",
      "30/30 [==============================] - 2s 54ms/step - loss: 0.3151 - acc: 0.8713 - auc_5: 0.9318 - val_loss: 0.4248 - val_acc: 0.8434 - val_auc_5: 0.8264\n",
      "Epoch 4/20\n",
      "30/30 [==============================] - 2s 54ms/step - loss: 0.3126 - acc: 0.8588 - auc_5: 0.9319 - val_loss: 0.4364 - val_acc: 0.8434 - val_auc_5: 0.8252\n",
      "Epoch 5/20\n",
      "30/30 [==============================] - 2s 55ms/step - loss: 0.2871 - acc: 0.8745 - auc_5: 0.9432 - val_loss: 0.4120 - val_acc: 0.8434 - val_auc_5: 0.8350\n",
      "Epoch 6/20\n",
      "30/30 [==============================] - 2s 53ms/step - loss: 0.2713 - acc: 0.8881 - auc_5: 0.9481 - val_loss: 0.7927 - val_acc: 0.5602 - val_auc_5: 0.8527\n",
      "Epoch 7/20\n",
      "30/30 [==============================] - 2s 53ms/step - loss: 0.2618 - acc: 0.8881 - auc_5: 0.9524 - val_loss: 0.4381 - val_acc: 0.8253 - val_auc_5: 0.8279\n",
      "Epoch 8/20\n",
      "30/30 [==============================] - 2s 54ms/step - loss: 0.2593 - acc: 0.8902 - auc_5: 0.9574 - val_loss: 0.4372 - val_acc: 0.8494 - val_auc_5: 0.8358\n",
      "Epoch 9/20\n",
      "30/30 [==============================] - 2s 55ms/step - loss: 0.2250 - acc: 0.9163 - auc_5: 0.9652 - val_loss: 0.3922 - val_acc: 0.8675 - val_auc_5: 0.8554\n",
      "Epoch 10/20\n",
      "30/30 [==============================] - 2s 53ms/step - loss: 0.2309 - acc: 0.9163 - auc_5: 0.9627 - val_loss: 0.3925 - val_acc: 0.8795 - val_auc_5: 0.8504\n",
      "Epoch 11/20\n",
      "30/30 [==============================] - 2s 57ms/step - loss: 0.1985 - acc: 0.9174 - auc_5: 0.9742 - val_loss: 0.4198 - val_acc: 0.8735 - val_auc_5: 0.8559\n",
      "Epoch 12/20\n",
      "30/30 [==============================] - 2s 55ms/step - loss: 0.2009 - acc: 0.9163 - auc_5: 0.9725 - val_loss: 0.3996 - val_acc: 0.8735 - val_auc_5: 0.8535\n",
      "Epoch 13/20\n",
      "30/30 [==============================] - 2s 55ms/step - loss: 0.2036 - acc: 0.9215 - auc_5: 0.9724 - val_loss: 0.4384 - val_acc: 0.8373 - val_auc_5: 0.8428\n",
      "Epoch 14/20\n",
      "30/30 [==============================] - 2s 53ms/step - loss: 0.2036 - acc: 0.9215 - auc_5: 0.9711 - val_loss: 0.4081 - val_acc: 0.8795 - val_auc_5: 0.8505\n",
      "Epoch 15/20\n",
      "30/30 [==============================] - 2s 55ms/step - loss: 0.2020 - acc: 0.9048 - auc_5: 0.9737 - val_loss: 0.4541 - val_acc: 0.8614 - val_auc_5: 0.8448\n",
      "Epoch 16/20\n",
      "30/30 [==============================] - 2s 56ms/step - loss: 0.1769 - acc: 0.9195 - auc_5: 0.9799 - val_loss: 0.4358 - val_acc: 0.8614 - val_auc_5: 0.8555\n",
      "Epoch 17/20\n",
      "30/30 [==============================] - 2s 54ms/step - loss: 0.1674 - acc: 0.9247 - auc_5: 0.9824 - val_loss: 0.4473 - val_acc: 0.8675 - val_auc_5: 0.8392\n",
      "Epoch 18/20\n",
      "30/30 [==============================] - 2s 55ms/step - loss: 0.1593 - acc: 0.9372 - auc_5: 0.9830 - val_loss: 0.5909 - val_acc: 0.8133 - val_auc_5: 0.8297\n",
      "Epoch 19/20\n",
      "30/30 [==============================] - 2s 55ms/step - loss: 0.1757 - acc: 0.9226 - auc_5: 0.9795 - val_loss: 0.4600 - val_acc: 0.8494 - val_auc_5: 0.8475\n",
      "Epoch 20/20\n",
      "30/30 [==============================] - 2s 55ms/step - loss: 0.1452 - acc: 0.9372 - auc_5: 0.9875 - val_loss: 0.4503 - val_acc: 0.8795 - val_auc_5: 0.8346\n"
     ]
    }
   ],
   "source": [
    "vgg3hist = model.fit(X_longi_train, y_longi_train, validation_data = (X_longi_test, y_longi_test), epochs = 20, batch_size = 32)\n"
   ]
  },
  {
   "cell_type": "code",
   "execution_count": 244,
   "id": "bb3b7b32-eeca-4420-a003-e3be2dd34823",
   "metadata": {},
   "outputs": [
    {
     "name": "stdout",
     "output_type": "stream",
     "text": [
      "0.16\n",
      "1.6867470256535413\n",
      "0.235\n"
     ]
    }
   ],
   "source": [
    "longi_pred = model.predict(test_images)\n",
    "longi_pred.reshape(200)\n",
    "longi_pred_1 = np.round(longi_pred)\n",
    "print(longi_pred_1.mean())\n",
    "print(y_longi.mean() / longi_pred_1.mean())\n",
    "prior_adjusted_longi_pred = np.round(longi_pred * y_longi.mean() / longi_pred_1.mean())\n",
    "prior_adjusted_longi_pred = np.array([min(int(i), 1) for i in prior_adjusted_longi_pred])\n",
    "print(prior_adjusted_longi_pred.mean())"
   ]
  },
  {
   "cell_type": "markdown",
   "id": "2ace0257-0bf9-4ea9-bb72-e70aaaa50ff2",
   "metadata": {},
   "source": [
    "#### FAIENÇAGE"
   ]
  },
  {
   "cell_type": "code",
   "execution_count": 237,
   "id": "6bd61d6e-8081-4184-9a79-0606df639502",
   "metadata": {},
   "outputs": [],
   "source": [
    "X_faience_train, X_faience_test, y_faience_train, y_faience_test = train_test_split(X, y_faience, test_size=0.2)\n"
   ]
  },
  {
   "cell_type": "code",
   "execution_count": 238,
   "id": "d1dd98a8-4d08-455a-9b68-d34f418e37a9",
   "metadata": {},
   "outputs": [],
   "source": [
    "X_faience_train, y_faience_train = oversampler(X_faience_train, y_faience_train) "
   ]
  },
  {
   "cell_type": "code",
   "execution_count": 239,
   "id": "566f0e20-c4d8-441e-a789-9d6cbac24fcb",
   "metadata": {},
   "outputs": [
    {
     "name": "stdout",
     "output_type": "stream",
     "text": [
      "1256\n",
      "0.5\n",
      "(1256, 224, 224, 3)\n"
     ]
    }
   ],
   "source": [
    "print(len(y_faience_train))\n",
    "print(y_faience_train.mean())\n",
    "print(X_faience_train.shape)"
   ]
  },
  {
   "cell_type": "code",
   "execution_count": 241,
   "id": "35bf7d8e-3fa6-4900-879b-72a7bb572a10",
   "metadata": {},
   "outputs": [
    {
     "name": "stdout",
     "output_type": "stream",
     "text": [
      "Epoch 1/10\n",
      "40/40 [==============================] - 2s 56ms/step - loss: 0.1735 - acc: 0.9554 - auc_5: 0.9793 - val_loss: 0.4210 - val_acc: 0.9157 - val_auc_5: 0.6501\n",
      "Epoch 2/10\n",
      "40/40 [==============================] - 2s 51ms/step - loss: 0.1353 - acc: 0.9626 - auc_5: 0.9811 - val_loss: 0.4007 - val_acc: 0.9217 - val_auc_5: 0.6574\n",
      "Epoch 3/10\n",
      "40/40 [==============================] - 2s 52ms/step - loss: 0.1201 - acc: 0.9674 - auc_5: 0.9850 - val_loss: 0.3487 - val_acc: 0.9217 - val_auc_5: 0.6611\n",
      "Epoch 4/10\n",
      "40/40 [==============================] - 2s 51ms/step - loss: 0.1100 - acc: 0.9682 - auc_5: 0.9859 - val_loss: 0.3511 - val_acc: 0.9157 - val_auc_5: 0.6692\n",
      "Epoch 5/10\n",
      "40/40 [==============================] - 2s 51ms/step - loss: 0.1082 - acc: 0.9674 - auc_5: 0.9877 - val_loss: 0.3947 - val_acc: 0.8614 - val_auc_5: 0.6926\n",
      "Epoch 6/10\n",
      "40/40 [==============================] - 2s 51ms/step - loss: 0.1101 - acc: 0.9682 - auc_5: 0.9862 - val_loss: 0.4204 - val_acc: 0.9217 - val_auc_5: 0.6993\n",
      "Epoch 7/10\n",
      "40/40 [==============================] - 2s 51ms/step - loss: 0.1094 - acc: 0.9674 - auc_5: 0.9873 - val_loss: 0.3273 - val_acc: 0.9157 - val_auc_5: 0.7046\n",
      "Epoch 8/10\n",
      "40/40 [==============================] - 2s 53ms/step - loss: 0.1034 - acc: 0.9666 - auc_5: 0.9892 - val_loss: 0.3544 - val_acc: 0.9157 - val_auc_5: 0.7202\n",
      "Epoch 9/10\n",
      "40/40 [==============================] - 2s 50ms/step - loss: 0.0940 - acc: 0.9713 - auc_5: 0.9898 - val_loss: 0.3691 - val_acc: 0.9157 - val_auc_5: 0.6719\n",
      "Epoch 10/10\n",
      "40/40 [==============================] - 2s 52ms/step - loss: 0.0757 - acc: 0.9721 - auc_5: 0.9947 - val_loss: 0.3625 - val_acc: 0.8855 - val_auc_5: 0.7139\n"
     ]
    }
   ],
   "source": [
    "vgg4hist = model.fit(X_faience_train, y_faience_train, validation_data = (X_faience_test, y_faience_test), epochs = 10, batch_size = 32)\n"
   ]
  },
  {
   "cell_type": "code",
   "execution_count": 242,
   "id": "bc091e09-521e-4771-9f83-5aad64d835ff",
   "metadata": {},
   "outputs": [
    {
     "name": "stdout",
     "output_type": "stream",
     "text": [
      "0.1\n",
      "0.01\n"
     ]
    }
   ],
   "source": [
    "faience_pred = model.predict(test_images)\n",
    "faience_pred.reshape(200)\n",
    "faience_pred_1 = np.round(faience_pred)\n",
    "print(faience_pred_1.mean())\n",
    "prior_adjusted_faience_pred = np.round(faience_pred * y_faience.mean() / faience_pred_1.mean())\n",
    "prior_adjusted_faience_pred = np.array([min(int(i), 1) for i in prior_adjusted_faience_pred])\n",
    "print(prior_adjusted_faience_pred.mean())"
   ]
  },
  {
   "cell_type": "markdown",
   "id": "65aff3fc-cc89-4666-a125-e2a0a0e8937a",
   "metadata": {},
   "source": [
    "#### MISE EN DALLE"
   ]
  },
  {
   "cell_type": "code",
   "execution_count": 245,
   "id": "c9462a17-6907-4563-88ac-5eafde3145fa",
   "metadata": {},
   "outputs": [],
   "source": [
    "X_med_train, X_med_test, y_med_train, y_med_test = train_test_split(X, y_med, test_size=0.2)"
   ]
  },
  {
   "cell_type": "code",
   "execution_count": 246,
   "id": "b026b9db-bcef-4dab-9ead-ab94aace085c",
   "metadata": {},
   "outputs": [],
   "source": [
    "X_med_train, y_med_train = oversampler(X_med_train, y_med_train) "
   ]
  },
  {
   "cell_type": "code",
   "execution_count": 247,
   "id": "2794f818-7e02-4dff-9ecc-b1b2c10db48e",
   "metadata": {},
   "outputs": [
    {
     "name": "stdout",
     "output_type": "stream",
     "text": [
      "1168\n",
      "0.5\n",
      "(1168, 224, 224, 3)\n"
     ]
    }
   ],
   "source": [
    "print(len(y_med_train))\n",
    "print(y_med_train.mean())\n",
    "print(X_med_train.shape)"
   ]
  },
  {
   "cell_type": "code",
   "execution_count": 248,
   "id": "69e9304a-fb9b-4f96-994c-2badcd5c7cd2",
   "metadata": {},
   "outputs": [
    {
     "name": "stdout",
     "output_type": "stream",
     "text": [
      "Epoch 1/20\n",
      "37/37 [==============================] - 3s 92ms/step - loss: 0.1656 - acc: 0.9349 - auc_5: 0.9811 - val_loss: 0.3760 - val_acc: 0.8494 - val_auc_5: 0.8778\n",
      "Epoch 2/20\n",
      "37/37 [==============================] - 2s 52ms/step - loss: 0.1466 - acc: 0.9461 - auc_5: 0.9842 - val_loss: 0.3025 - val_acc: 0.8735 - val_auc_5: 0.8915\n",
      "Epoch 3/20\n",
      "37/37 [==============================] - 2s 51ms/step - loss: 0.1232 - acc: 0.9478 - auc_5: 0.9884 - val_loss: 0.2811 - val_acc: 0.8976 - val_auc_5: 0.9001\n",
      "Epoch 4/20\n",
      "37/37 [==============================] - 2s 54ms/step - loss: 0.1123 - acc: 0.9563 - auc_5: 0.9913 - val_loss: 0.2815 - val_acc: 0.8855 - val_auc_5: 0.9039\n",
      "Epoch 5/20\n",
      "37/37 [==============================] - 2s 52ms/step - loss: 0.0892 - acc: 0.9675 - auc_5: 0.9940 - val_loss: 0.3394 - val_acc: 0.8855 - val_auc_5: 0.9001\n",
      "Epoch 6/20\n",
      "37/37 [==============================] - 2s 55ms/step - loss: 0.0931 - acc: 0.9580 - auc_5: 0.9939 - val_loss: 0.2803 - val_acc: 0.8976 - val_auc_5: 0.9079\n",
      "Epoch 7/20\n",
      "37/37 [==============================] - 2s 55ms/step - loss: 0.0900 - acc: 0.9666 - auc_5: 0.9934 - val_loss: 0.2723 - val_acc: 0.8916 - val_auc_5: 0.9153\n",
      "Epoch 8/20\n",
      "37/37 [==============================] - 2s 52ms/step - loss: 0.0812 - acc: 0.9666 - auc_5: 0.9955 - val_loss: 0.2941 - val_acc: 0.8855 - val_auc_5: 0.9140\n",
      "Epoch 9/20\n",
      "37/37 [==============================] - 2s 56ms/step - loss: 0.0707 - acc: 0.9777 - auc_5: 0.9964 - val_loss: 0.3194 - val_acc: 0.8855 - val_auc_5: 0.9218\n",
      "Epoch 10/20\n",
      "37/37 [==============================] - 2s 53ms/step - loss: 0.0641 - acc: 0.9777 - auc_5: 0.9969 - val_loss: 0.2734 - val_acc: 0.8855 - val_auc_5: 0.9176\n",
      "Epoch 11/20\n",
      "37/37 [==============================] - 2s 53ms/step - loss: 0.0586 - acc: 0.9743 - auc_5: 0.9982 - val_loss: 0.3423 - val_acc: 0.8795 - val_auc_5: 0.9130\n",
      "Epoch 12/20\n",
      "37/37 [==============================] - 2s 52ms/step - loss: 0.0690 - acc: 0.9777 - auc_5: 0.9963 - val_loss: 0.3765 - val_acc: 0.8795 - val_auc_5: 0.9119\n",
      "Epoch 13/20\n",
      "37/37 [==============================] - 2s 53ms/step - loss: 0.0543 - acc: 0.9786 - auc_5: 0.9980 - val_loss: 0.3691 - val_acc: 0.8795 - val_auc_5: 0.9099\n",
      "Epoch 14/20\n",
      "37/37 [==============================] - 2s 52ms/step - loss: 0.0531 - acc: 0.9760 - auc_5: 0.9982 - val_loss: 0.2963 - val_acc: 0.8735 - val_auc_5: 0.9157\n",
      "Epoch 15/20\n",
      "37/37 [==============================] - 2s 54ms/step - loss: 0.0502 - acc: 0.9777 - auc_5: 0.9985 - val_loss: 0.3690 - val_acc: 0.8675 - val_auc_5: 0.9096\n",
      "Epoch 16/20\n",
      "37/37 [==============================] - 2s 52ms/step - loss: 0.0416 - acc: 0.9863 - auc_5: 0.9989 - val_loss: 0.3552 - val_acc: 0.8976 - val_auc_5: 0.9103\n",
      "Epoch 17/20\n",
      "37/37 [==============================] - 2s 54ms/step - loss: 0.0409 - acc: 0.9880 - auc_5: 0.9990 - val_loss: 0.3576 - val_acc: 0.8795 - val_auc_5: 0.9159\n",
      "Epoch 18/20\n",
      "37/37 [==============================] - 2s 53ms/step - loss: 0.0411 - acc: 0.9880 - auc_5: 0.9987 - val_loss: 0.3454 - val_acc: 0.8855 - val_auc_5: 0.9124\n",
      "Epoch 19/20\n",
      "37/37 [==============================] - 2s 52ms/step - loss: 0.0354 - acc: 0.9897 - auc_5: 0.9992 - val_loss: 0.3443 - val_acc: 0.9096 - val_auc_5: 0.9149\n",
      "Epoch 20/20\n",
      "37/37 [==============================] - 2s 54ms/step - loss: 0.0363 - acc: 0.9854 - auc_5: 0.9992 - val_loss: 0.3537 - val_acc: 0.8735 - val_auc_5: 0.9101\n"
     ]
    }
   ],
   "source": [
    "vgg5hist = model.fit(X_med_train, y_med_train, validation_data = (X_med_test, y_med_test), epochs = 20, batch_size = 32)\n"
   ]
  },
  {
   "cell_type": "code",
   "execution_count": 252,
   "id": "252c5a51-2e11-4549-b8ea-148687da5a8c",
   "metadata": {},
   "outputs": [
    {
     "name": "stdout",
     "output_type": "stream",
     "text": [
      "0.1\n",
      "1.0369145\n",
      "0.11\n"
     ]
    }
   ],
   "source": [
    "med_pred = model.predict(test_images)\n",
    "med_pred.reshape(200)\n",
    "med_pred_1 = np.round(med_pred)\n",
    "print(med_pred_1.mean())\n",
    "print(y_med.mean() / med_pred_1.mean())\n",
    "prior_adjusted_med_pred = np.round(med_pred * y_med.mean() / med_pred_1.mean())\n",
    "prior_adjusted_med_pred = np.array([min(int(i), 1) for i in prior_adjusted_med_pred])\n",
    "print(prior_adjusted_med_pred.mean())"
   ]
  },
  {
   "cell_type": "code",
   "execution_count": 253,
   "id": "f5525e4e-0a0f-4a00-8fa9-706dea7713c1",
   "metadata": {},
   "outputs": [
    {
     "data": {
      "text/html": [
       "<div>\n",
       "<style scoped>\n",
       "    .dataframe tbody tr th:only-of-type {\n",
       "        vertical-align: middle;\n",
       "    }\n",
       "\n",
       "    .dataframe tbody tr th {\n",
       "        vertical-align: top;\n",
       "    }\n",
       "\n",
       "    .dataframe thead th {\n",
       "        text-align: right;\n",
       "    }\n",
       "</style>\n",
       "<table border=\"1\" class=\"dataframe\">\n",
       "  <thead>\n",
       "    <tr style=\"text-align: right;\">\n",
       "      <th></th>\n",
       "      <th>filename</th>\n",
       "      <th>FISSURE</th>\n",
       "      <th>REPARATION</th>\n",
       "      <th>FISSURE LONGITUDINALE</th>\n",
       "      <th>FAÏENCAGE</th>\n",
       "      <th>MISE EN DALLE</th>\n",
       "    </tr>\n",
       "  </thead>\n",
       "  <tbody>\n",
       "    <tr>\n",
       "      <th>0</th>\n",
       "      <td>BDCAEROD0000000017183099_runway_2_gridsize_512...</td>\n",
       "      <td>0</td>\n",
       "      <td>0</td>\n",
       "      <td>0</td>\n",
       "      <td>0</td>\n",
       "      <td>0</td>\n",
       "    </tr>\n",
       "    <tr>\n",
       "      <th>1</th>\n",
       "      <td>BDCAEROD0000000017183016_runway_1_gridsize_512...</td>\n",
       "      <td>0</td>\n",
       "      <td>0</td>\n",
       "      <td>0</td>\n",
       "      <td>0</td>\n",
       "      <td>0</td>\n",
       "    </tr>\n",
       "    <tr>\n",
       "      <th>2</th>\n",
       "      <td>BDCAEROD0000000017183040_runway_1_gridsize_512...</td>\n",
       "      <td>1</td>\n",
       "      <td>0</td>\n",
       "      <td>0</td>\n",
       "      <td>0</td>\n",
       "      <td>0</td>\n",
       "    </tr>\n",
       "    <tr>\n",
       "      <th>3</th>\n",
       "      <td>BDCAEROD0000000017183010_runway_1_gridsize_512...</td>\n",
       "      <td>1</td>\n",
       "      <td>0</td>\n",
       "      <td>0</td>\n",
       "      <td>0</td>\n",
       "      <td>0</td>\n",
       "    </tr>\n",
       "    <tr>\n",
       "      <th>4</th>\n",
       "      <td>BDCAEROD0000000017183107_runway_2_gridsize_512...</td>\n",
       "      <td>0</td>\n",
       "      <td>0</td>\n",
       "      <td>0</td>\n",
       "      <td>0</td>\n",
       "      <td>0</td>\n",
       "    </tr>\n",
       "    <tr>\n",
       "      <th>...</th>\n",
       "      <td>...</td>\n",
       "      <td>...</td>\n",
       "      <td>...</td>\n",
       "      <td>...</td>\n",
       "      <td>...</td>\n",
       "      <td>...</td>\n",
       "    </tr>\n",
       "    <tr>\n",
       "      <th>195</th>\n",
       "      <td>BDCAEROD0000000017183053_runway_1_gridsize_512...</td>\n",
       "      <td>1</td>\n",
       "      <td>0</td>\n",
       "      <td>1</td>\n",
       "      <td>1</td>\n",
       "      <td>1</td>\n",
       "    </tr>\n",
       "    <tr>\n",
       "      <th>196</th>\n",
       "      <td>BDCAEROD0000000017183067_runway_1_gridsize_512...</td>\n",
       "      <td>1</td>\n",
       "      <td>0</td>\n",
       "      <td>1</td>\n",
       "      <td>0</td>\n",
       "      <td>0</td>\n",
       "    </tr>\n",
       "    <tr>\n",
       "      <th>197</th>\n",
       "      <td>BDCAEROD0000000017183053_runway_1_gridsize_512...</td>\n",
       "      <td>1</td>\n",
       "      <td>0</td>\n",
       "      <td>1</td>\n",
       "      <td>0</td>\n",
       "      <td>1</td>\n",
       "    </tr>\n",
       "    <tr>\n",
       "      <th>198</th>\n",
       "      <td>BDCAEROD0000000017183092_runway_2_gridsize_512...</td>\n",
       "      <td>1</td>\n",
       "      <td>0</td>\n",
       "      <td>0</td>\n",
       "      <td>0</td>\n",
       "      <td>0</td>\n",
       "    </tr>\n",
       "    <tr>\n",
       "      <th>199</th>\n",
       "      <td>BDCAEROD0000000017183103_runway_1_gridsize_512...</td>\n",
       "      <td>0</td>\n",
       "      <td>0</td>\n",
       "      <td>0</td>\n",
       "      <td>0</td>\n",
       "      <td>0</td>\n",
       "    </tr>\n",
       "  </tbody>\n",
       "</table>\n",
       "<p>200 rows × 6 columns</p>\n",
       "</div>"
      ],
      "text/plain": [
       "                                              filename  FISSURE  REPARATION  \\\n",
       "0    BDCAEROD0000000017183099_runway_2_gridsize_512...        0           0   \n",
       "1    BDCAEROD0000000017183016_runway_1_gridsize_512...        0           0   \n",
       "2    BDCAEROD0000000017183040_runway_1_gridsize_512...        1           0   \n",
       "3    BDCAEROD0000000017183010_runway_1_gridsize_512...        1           0   \n",
       "4    BDCAEROD0000000017183107_runway_2_gridsize_512...        0           0   \n",
       "..                                                 ...      ...         ...   \n",
       "195  BDCAEROD0000000017183053_runway_1_gridsize_512...        1           0   \n",
       "196  BDCAEROD0000000017183067_runway_1_gridsize_512...        1           0   \n",
       "197  BDCAEROD0000000017183053_runway_1_gridsize_512...        1           0   \n",
       "198  BDCAEROD0000000017183092_runway_2_gridsize_512...        1           0   \n",
       "199  BDCAEROD0000000017183103_runway_1_gridsize_512...        0           0   \n",
       "\n",
       "     FISSURE LONGITUDINALE  FAÏENCAGE  MISE EN DALLE  \n",
       "0                        0          0              0  \n",
       "1                        0          0              0  \n",
       "2                        0          0              0  \n",
       "3                        0          0              0  \n",
       "4                        0          0              0  \n",
       "..                     ...        ...            ...  \n",
       "195                      1          1              1  \n",
       "196                      1          0              0  \n",
       "197                      1          0              1  \n",
       "198                      0          0              0  \n",
       "199                      0          0              0  \n",
       "\n",
       "[200 rows x 6 columns]"
      ]
     },
     "execution_count": 253,
     "metadata": {},
     "output_type": "execute_result"
    }
   ],
   "source": [
    "test_labels[\"FISSURE\"] = prior_adjusted_fissure_pred\n",
    "test_labels[\"REPARATION\"] = prior_adjusted_reparation_pred\n",
    "test_labels[\"FISSURE LONGITUDINALE\"] = prior_adjusted_longi_pred\n",
    "test_labels[\"FAÏENCAGE\"] = prior_adjusted_faience_pred\n",
    "test_labels[\"MISE EN DALLE\"] = prior_adjusted_med_pred\n",
    "\n",
    "test_labels "
   ]
  },
  {
   "cell_type": "code",
   "execution_count": 254,
   "id": "b478d1e7-1b6b-497c-b9a6-e3a932264928",
   "metadata": {},
   "outputs": [],
   "source": [
    "test_labels.to_csv(\"predictions.csv\", index=False)"
   ]
  }
 ],
 "metadata": {
  "kernelspec": {
   "display_name": "Python 3 (ipykernel)",
   "language": "python",
   "name": "python3"
  },
  "language_info": {
   "codemirror_mode": {
    "name": "ipython",
    "version": 3
   },
   "file_extension": ".py",
   "mimetype": "text/x-python",
   "name": "python",
   "nbconvert_exporter": "python",
   "pygments_lexer": "ipython3",
   "version": "3.8.13"
  }
 },
 "nbformat": 4,
 "nbformat_minor": 5
}
