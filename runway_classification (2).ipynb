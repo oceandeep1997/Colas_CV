{
 "cells": [
  {
   "cell_type": "code",
   "execution_count": 185,
   "id": "37a46420-993e-4fbc-8262-b8771d76baff",
   "metadata": {},
   "outputs": [],
   "source": [
    "from pathlib import Path\n",
    "import pandas as pd\n",
    "import numpy as np\n",
    "from tqdm import tqdm\n",
    "import matplotlib.pyplot as plt\n",
    "from sklearn.model_selection import train_test_split\n",
    "\n",
    "import tensorflow as tf\n",
    "from tensorflow.keras.utils import load_img\n",
    "from tensorflow.keras.utils import img_to_array\n",
    "from tensorflow.keras.models import Sequential\n",
    "from tensorflow.keras.layers import Dense, Dropout, Flatten\n",
    "from tensorflow.keras.layers import Conv2D, MaxPooling2D\n",
    "from tensorflow.keras.metrics import AUC\n",
    "from tensorflow.keras.preprocessing.image import ImageDataGenerator\n",
    "from tensorflow.keras import layers\n",
    "from tensorflow.keras.callbacks import EarlyStopping\n"
   ]
  },
  {
   "cell_type": "code",
   "execution_count": null,
   "id": "2f1bf288-6983-497d-957e-2e062701d9a9",
   "metadata": {},
   "outputs": [],
   "source": [
    "#Functions\n",
    "\n",
    "\n",
    "from keras import backend as K\n",
    "\n",
    "def oversampler(X, y):    \n",
    "    X = list(X)\n",
    "    counter = int(y.mean() * len(y))\n",
    "    while counter / len(y) < 0.5:\n",
    "        for i in range(len(y)):\n",
    "            if y[i] == 1:\n",
    "                X.append(X[i])\n",
    "                y = np.append(y, y[i])\n",
    "                counter += 1\n",
    "            if counter / len(y) >= 0.5:\n",
    "                break\n",
    "    X = np.array(X)\n",
    "    return X, y\n",
    "\n",
    "def recall_m(y_true, y_pred):\n",
    "    true_positives = K.sum(K.round(K.clip(y_true * y_pred, 0, 1)))\n",
    "    possible_positives = K.sum(K.round(K.clip(y_true, 0, 1)))\n",
    "    recall = true_positives / (possible_positives + K.epsilon())\n",
    "    return recall\n",
    "\n",
    "def precision_m(y_true, y_pred):\n",
    "    true_positives = K.sum(K.round(K.clip(y_true * y_pred, 0, 1)))\n",
    "    predicted_positives = K.sum(K.round(K.clip(y_pred, 0, 1)))\n",
    "    precision = true_positives / (predicted_positives + K.epsilon())\n",
    "    return precision\n",
    "\n",
    "def f1_m(y_true, y_pred):\n",
    "    precision = precision_m(y_true, y_pred)\n",
    "    recall = recall_m(y_true, y_pred)\n",
    "    return 2*((precision*recall)/(precision+recall+K.epsilon()))"
   ]
  },
  {
   "cell_type": "code",
   "execution_count": 186,
   "id": "32154311-ea5b-4e2b-89fe-cb1c973e0861",
   "metadata": {},
   "outputs": [],
   "source": [
    "dataset_path = \"hfactory_magic_folders/colas_data_challenge/computer_vision_challenge/dataset/\""
   ]
  },
  {
   "cell_type": "code",
   "execution_count": 187,
   "id": "57720169-2605-4698-a7a0-4b84f3bcf33a",
   "metadata": {},
   "outputs": [],
   "source": [
    "train_labels = pd.read_csv(dataset_path + \"labels_train.csv\")\n"
   ]
  },
  {
   "cell_type": "code",
   "execution_count": 188,
   "id": "faf208fc-a93d-491b-bed5-3692c65b7b5c",
   "metadata": {},
   "outputs": [
    {
     "data": {
      "text/html": [
       "<div>\n",
       "<style scoped>\n",
       "    .dataframe tbody tr th:only-of-type {\n",
       "        vertical-align: middle;\n",
       "    }\n",
       "\n",
       "    .dataframe tbody tr th {\n",
       "        vertical-align: top;\n",
       "    }\n",
       "\n",
       "    .dataframe thead th {\n",
       "        text-align: right;\n",
       "    }\n",
       "</style>\n",
       "<table border=\"1\" class=\"dataframe\">\n",
       "  <thead>\n",
       "    <tr style=\"text-align: right;\">\n",
       "      <th></th>\n",
       "      <th>filename</th>\n",
       "      <th>FISSURE</th>\n",
       "      <th>REPARATION</th>\n",
       "      <th>FISSURE LONGITUDINALE</th>\n",
       "      <th>FAÏENCAGE</th>\n",
       "      <th>MISE EN DALLE</th>\n",
       "    </tr>\n",
       "  </thead>\n",
       "  <tbody>\n",
       "    <tr>\n",
       "      <th>0</th>\n",
       "      <td>BDCAEROD0000000017183099_runway_3_gridsize_512...</td>\n",
       "      <td>0</td>\n",
       "      <td>0</td>\n",
       "      <td>1</td>\n",
       "      <td>1</td>\n",
       "      <td>0</td>\n",
       "    </tr>\n",
       "    <tr>\n",
       "      <th>1</th>\n",
       "      <td>BDCAEROD0000000017183055_runway_1_gridsize_512...</td>\n",
       "      <td>0</td>\n",
       "      <td>0</td>\n",
       "      <td>1</td>\n",
       "      <td>0</td>\n",
       "      <td>0</td>\n",
       "    </tr>\n",
       "    <tr>\n",
       "      <th>2</th>\n",
       "      <td>BDCAEROD0000000017183118_runway_1_gridsize_512...</td>\n",
       "      <td>1</td>\n",
       "      <td>0</td>\n",
       "      <td>1</td>\n",
       "      <td>0</td>\n",
       "      <td>0</td>\n",
       "    </tr>\n",
       "    <tr>\n",
       "      <th>3</th>\n",
       "      <td>BDCAEROD0000000017183028_runway_1_gridsize_512...</td>\n",
       "      <td>1</td>\n",
       "      <td>0</td>\n",
       "      <td>0</td>\n",
       "      <td>0</td>\n",
       "      <td>0</td>\n",
       "    </tr>\n",
       "    <tr>\n",
       "      <th>4</th>\n",
       "      <td>BDCAEROD0000000017183088_runway_1_gridsize_512...</td>\n",
       "      <td>0</td>\n",
       "      <td>0</td>\n",
       "      <td>0</td>\n",
       "      <td>0</td>\n",
       "      <td>0</td>\n",
       "    </tr>\n",
       "    <tr>\n",
       "      <th>...</th>\n",
       "      <td>...</td>\n",
       "      <td>...</td>\n",
       "      <td>...</td>\n",
       "      <td>...</td>\n",
       "      <td>...</td>\n",
       "      <td>...</td>\n",
       "    </tr>\n",
       "    <tr>\n",
       "      <th>825</th>\n",
       "      <td>BDCAEROD0000000017183055_runway_1_gridsize_512...</td>\n",
       "      <td>0</td>\n",
       "      <td>0</td>\n",
       "      <td>0</td>\n",
       "      <td>0</td>\n",
       "      <td>0</td>\n",
       "    </tr>\n",
       "    <tr>\n",
       "      <th>826</th>\n",
       "      <td>BDCAEROD0000000017183095_runway_1_gridsize_512...</td>\n",
       "      <td>1</td>\n",
       "      <td>1</td>\n",
       "      <td>1</td>\n",
       "      <td>0</td>\n",
       "      <td>1</td>\n",
       "    </tr>\n",
       "    <tr>\n",
       "      <th>827</th>\n",
       "      <td>BDCAEROD0000000017182994_runway_1_gridsize_512...</td>\n",
       "      <td>0</td>\n",
       "      <td>1</td>\n",
       "      <td>0</td>\n",
       "      <td>1</td>\n",
       "      <td>0</td>\n",
       "    </tr>\n",
       "    <tr>\n",
       "      <th>828</th>\n",
       "      <td>BDCAEROD0000000017183099_runway_3_gridsize_512...</td>\n",
       "      <td>0</td>\n",
       "      <td>1</td>\n",
       "      <td>1</td>\n",
       "      <td>1</td>\n",
       "      <td>0</td>\n",
       "    </tr>\n",
       "    <tr>\n",
       "      <th>829</th>\n",
       "      <td>BDCAEROD0000000017183119_runway_1_gridsize_512...</td>\n",
       "      <td>0</td>\n",
       "      <td>0</td>\n",
       "      <td>0</td>\n",
       "      <td>1</td>\n",
       "      <td>0</td>\n",
       "    </tr>\n",
       "  </tbody>\n",
       "</table>\n",
       "<p>830 rows × 6 columns</p>\n",
       "</div>"
      ],
      "text/plain": [
       "                                              filename  FISSURE  REPARATION  \\\n",
       "0    BDCAEROD0000000017183099_runway_3_gridsize_512...        0           0   \n",
       "1    BDCAEROD0000000017183055_runway_1_gridsize_512...        0           0   \n",
       "2    BDCAEROD0000000017183118_runway_1_gridsize_512...        1           0   \n",
       "3    BDCAEROD0000000017183028_runway_1_gridsize_512...        1           0   \n",
       "4    BDCAEROD0000000017183088_runway_1_gridsize_512...        0           0   \n",
       "..                                                 ...      ...         ...   \n",
       "825  BDCAEROD0000000017183055_runway_1_gridsize_512...        0           0   \n",
       "826  BDCAEROD0000000017183095_runway_1_gridsize_512...        1           1   \n",
       "827  BDCAEROD0000000017182994_runway_1_gridsize_512...        0           1   \n",
       "828  BDCAEROD0000000017183099_runway_3_gridsize_512...        0           1   \n",
       "829  BDCAEROD0000000017183119_runway_1_gridsize_512...        0           0   \n",
       "\n",
       "     FISSURE LONGITUDINALE  FAÏENCAGE  MISE EN DALLE  \n",
       "0                        1          1              0  \n",
       "1                        1          0              0  \n",
       "2                        1          0              0  \n",
       "3                        0          0              0  \n",
       "4                        0          0              0  \n",
       "..                     ...        ...            ...  \n",
       "825                      0          0              0  \n",
       "826                      1          0              1  \n",
       "827                      0          1              0  \n",
       "828                      1          1              0  \n",
       "829                      0          1              0  \n",
       "\n",
       "[830 rows x 6 columns]"
      ]
     },
     "execution_count": 188,
     "metadata": {},
     "output_type": "execute_result"
    }
   ],
   "source": [
    "train_labels"
   ]
  },
  {
   "cell_type": "code",
   "execution_count": 189,
   "id": "62d99541-a052-4b31-97e4-fc7c23360ebf",
   "metadata": {},
   "outputs": [
    {
     "name": "stderr",
     "output_type": "stream",
     "text": [
      "100%|██████████| 830/830 [00:05<00:00, 153.79it/s]\n"
     ]
    }
   ],
   "source": [
    "train_image = []\n",
    "for i in tqdm(range(train_labels.shape[0])):\n",
    "    img = load_img(dataset_path + \"train/\" + train_labels[\"filename\"][i], target_size=(224,224,3))\n",
    "    img = img_to_array(img)\n",
    "    img = img/255\n",
    "    train_image.append(img)\n",
    "X = np.array(train_image)"
   ]
  },
  {
   "cell_type": "code",
   "execution_count": 190,
   "id": "9cde9435-27e3-424a-b45a-3574297feb11",
   "metadata": {},
   "outputs": [
    {
     "data": {
      "text/plain": [
       "<matplotlib.image.AxesImage at 0x7f61c82082b0>"
      ]
     },
     "execution_count": 190,
     "metadata": {},
     "output_type": "execute_result"
    },
    {
     "data": {
      "image/png": "[encoded data removed]",
      "text/plain": [
       "<Figure size 432x288 with 1 Axes>"
      ]
     },
     "metadata": {
      "needs_background": "light"
     },
     "output_type": "display_data"
    }
   ],
   "source": [
    "plt.imshow(X[2])"
   ]
  },
  {
   "cell_type": "code",
   "execution_count": 191,
   "id": "437b1931-0a64-4b57-ae8b-7f41f7cde61b",
   "metadata": {},
   "outputs": [],
   "source": [
    "y = np.array(train_labels.drop([\"filename\"], axis=1))"
   ]
  },
  {
   "cell_type": "markdown",
   "id": "7844a6fb-0ac7-4fa3-8512-80a5badce494",
   "metadata": {},
   "source": [
    "### One Model for Each Output"
   ]
  },
  {
   "cell_type": "code",
   "execution_count": 193,
   "id": "d8e7c556-ca05-43cd-a97d-85d6b3cdb8ba",
   "metadata": {},
   "outputs": [],
   "source": [
    "from tensorflow.keras.applications.vgg16 import VGG16\n",
    "\n",
    "base_model = VGG16(input_shape = (224, 224, 3), # Shape of our images\n",
    "include_top = False, # Leave out the last fully connected layer\n",
    "weights = 'imagenet')\n",
    "\n",
    "\n",
    "for layer in base_model.layers:\n",
    "    layer.trainable = False"
   ]
  },
  {
   "cell_type": "code",
   "execution_count": 194,
   "id": "3cf5fb98-3103-4848-8e27-ea870669fe6c",
   "metadata": {},
   "outputs": [],
   "source": [
    "# Flatten the output layer to 1 dimension\n",
    "x = layers.Flatten()(base_model.output)\n",
    "\n",
    "# Add a fully connected layer with 512 hidden units and ReLU activation\n",
    "x = layers.Dense(512, activation='relu')(x)\n",
    "\n",
    "# Add a dropout rate of 0.5\n",
    "x = layers.Dropout(0.5)(x)\n",
    "\n",
    "# Add a final sigmoid layer with 1 node for classification output\n",
    "x = layers.Dense(1, activation='sigmoid')(x)\n",
    "\n",
    "model = tf.keras.models.Model(base_model.input, x)\n",
    "\n",
    "model.compile(optimizer = tf.keras.optimizers.RMSprop(learning_rate=0.0001), loss = 'binary_crossentropy',metrics = ['acc', AUC()])"
   ]
  },
  {
   "cell_type": "code",
   "execution_count": 219,
   "id": "84d72148-af66-477d-86b2-85a37506fa28",
   "metadata": {},
   "outputs": [],
   "source": [
    "y_fissure = np.array(train_labels[\"FISSURE\"])\n",
    "y_reparation = np.array(train_labels[\"REPARATION\"])\n",
    "y_longi = np.array(train_labels[\"FISSURE LONGITUDINALE\"])\n",
    "y_faience = np.array(train_labels[\"FAÏENCAGE\"])\n",
    "y_med = np.array(train_labels[\"MISE EN DALLE\"])"
   ]
  },
  {
   "cell_type": "code",
   "execution_count": 220,
   "id": "264e8e19-f62d-4796-b362-ed7ae75a9aab",
   "metadata": {},
   "outputs": [
    {
     "name": "stdout",
     "output_type": "stream",
     "text": [
      "0.30481927710843376\n",
      "0.12530120481927712\n",
      "0.26987951807228916\n",
      "0.05903614457831325\n",
      "0.13132530120481928\n",
      "830\n"
     ]
    }
   ],
   "source": [
    "print(y_fissure.mean())\n",
    "print(y_reparation.mean())\n",
    "print(y_longi.mean())\n",
    "print(y_faience.mean())\n",
    "print(y_med.mean())\n",
    "print(len(y_fissure))"
   ]
  },
  {
   "cell_type": "markdown",
   "id": "a442575a-2927-40a0-a5b0-6d3a03f4c50b",
   "metadata": {},
   "source": [
    "#### FISSURE"
   ]
  },
  {
   "cell_type": "code",
   "execution_count": 221,
   "id": "ef7e975f-57b4-460b-b22d-c2e3d1828ff2",
   "metadata": {},
   "outputs": [],
   "source": [
    "X_fissure_train, X_fissure_test, y_fissure_train, y_fissure_test = train_test_split(X, y_fissure, test_size=0.2)\n"
   ]
  },
  {
   "cell_type": "code",
   "execution_count": 222,
   "id": "95c72f4e-6639-4504-968a-3fa25c58d2eb",
   "metadata": {},
   "outputs": [],
   "source": [
    "X_fissure_train, y_fissure_train = oversampler(X_fissure_train, y_fissure_train) "
   ]
  },
  {
   "cell_type": "code",
   "execution_count": 223,
   "id": "f89db544-6780-48e5-8275-3dcc92f15ab7",
   "metadata": {},
   "outputs": [
    {
     "name": "stdout",
     "output_type": "stream",
     "text": [
      "932\n",
      "0.5\n",
      "(932, 224, 224, 3)\n"
     ]
    }
   ],
   "source": [
    "print(len(y_fissure_train))\n",
    "print(y_fissure_train.mean())\n",
    "print(X_fissure_train.shape)"
   ]
  },
  {
   "cell_type": "code",
   "execution_count": 224,
   "id": "7d56547b-8ce2-490b-bbf5-23d661f43d05",
   "metadata": {},
   "outputs": [
    {
     "name": "stdout",
     "output_type": "stream",
     "text": [
      "Epoch 1/20\n",
      "30/30 [==============================] - 3s 99ms/step - loss: 0.3952 - acc: 0.8734 - auc_2: 0.9378 - val_loss: 0.3745 - val_acc: 0.8554 - val_auc_2: 0.9494\n",
      "Epoch 2/20\n",
      "30/30 [==============================] - 2s 54ms/step - loss: 0.2845 - acc: 0.8959 - auc_2: 0.9581 - val_loss: 0.2503 - val_acc: 0.9157 - val_auc_2: 0.9577\n",
      "Epoch 3/20\n",
      "30/30 [==============================] - 2s 54ms/step - loss: 0.2474 - acc: 0.9131 - auc_2: 0.9656 - val_loss: 0.2316 - val_acc: 0.9398 - val_auc_2: 0.9589\n",
      "Epoch 4/20\n",
      "30/30 [==============================] - 2s 53ms/step - loss: 0.2037 - acc: 0.9238 - auc_2: 0.9747 - val_loss: 0.2546 - val_acc: 0.9277 - val_auc_2: 0.9554\n",
      "Epoch 5/20\n",
      "30/30 [==============================] - 2s 54ms/step - loss: 0.1712 - acc: 0.9496 - auc_2: 0.9806 - val_loss: 0.3925 - val_acc: 0.8494 - val_auc_2: 0.9613\n",
      "Epoch 6/20\n",
      "30/30 [==============================] - 2s 54ms/step - loss: 0.1623 - acc: 0.9474 - auc_2: 0.9826 - val_loss: 0.2530 - val_acc: 0.9277 - val_auc_2: 0.9613\n",
      "Epoch 7/20\n",
      "30/30 [==============================] - 2s 55ms/step - loss: 0.1389 - acc: 0.9431 - auc_2: 0.9882 - val_loss: 0.2481 - val_acc: 0.9337 - val_auc_2: 0.9615\n",
      "Epoch 8/20\n",
      "30/30 [==============================] - 2s 55ms/step - loss: 0.1322 - acc: 0.9528 - auc_2: 0.9890 - val_loss: 0.2393 - val_acc: 0.9337 - val_auc_2: 0.9610\n",
      "Epoch 9/20\n",
      "30/30 [==============================] - 2s 54ms/step - loss: 0.1135 - acc: 0.9592 - auc_2: 0.9917 - val_loss: 0.2811 - val_acc: 0.9096 - val_auc_2: 0.9641\n",
      "Epoch 10/20\n",
      "30/30 [==============================] - 2s 56ms/step - loss: 0.1054 - acc: 0.9614 - auc_2: 0.9935 - val_loss: 0.2466 - val_acc: 0.9277 - val_auc_2: 0.9615\n",
      "Epoch 11/20\n",
      "30/30 [==============================] - 2s 53ms/step - loss: 0.0991 - acc: 0.9624 - auc_2: 0.9938 - val_loss: 0.2657 - val_acc: 0.9277 - val_auc_2: 0.9643\n",
      "Epoch 12/20\n",
      "30/30 [==============================] - 2s 53ms/step - loss: 0.0972 - acc: 0.9667 - auc_2: 0.9941 - val_loss: 0.2798 - val_acc: 0.9096 - val_auc_2: 0.9653\n",
      "Epoch 13/20\n",
      "30/30 [==============================] - 2s 53ms/step - loss: 0.0919 - acc: 0.9678 - auc_2: 0.9948 - val_loss: 0.2434 - val_acc: 0.9398 - val_auc_2: 0.9635\n",
      "Epoch 14/20\n",
      "30/30 [==============================] - 2s 53ms/step - loss: 0.1027 - acc: 0.9646 - auc_2: 0.9932 - val_loss: 0.2321 - val_acc: 0.9458 - val_auc_2: 0.9641\n",
      "Epoch 15/20\n",
      "30/30 [==============================] - 2s 54ms/step - loss: 0.0892 - acc: 0.9710 - auc_2: 0.9946 - val_loss: 0.2618 - val_acc: 0.9337 - val_auc_2: 0.9635\n",
      "Epoch 16/20\n",
      "30/30 [==============================] - 2s 54ms/step - loss: 0.0880 - acc: 0.9678 - auc_2: 0.9953 - val_loss: 0.2611 - val_acc: 0.9398 - val_auc_2: 0.9604\n",
      "Epoch 17/20\n",
      "30/30 [==============================] - 2s 54ms/step - loss: 0.0654 - acc: 0.9796 - auc_2: 0.9968 - val_loss: 0.2508 - val_acc: 0.9337 - val_auc_2: 0.9577\n",
      "Epoch 18/20\n",
      "30/30 [==============================] - 2s 53ms/step - loss: 0.0776 - acc: 0.9700 - auc_2: 0.9961 - val_loss: 0.3112 - val_acc: 0.8976 - val_auc_2: 0.9619\n",
      "Epoch 19/20\n",
      "30/30 [==============================] - 2s 54ms/step - loss: 0.0804 - acc: 0.9721 - auc_2: 0.9951 - val_loss: 0.2408 - val_acc: 0.9277 - val_auc_2: 0.9577\n",
      "Epoch 20/20\n",
      "30/30 [==============================] - 2s 54ms/step - loss: 0.0641 - acc: 0.9828 - auc_2: 0.9971 - val_loss: 0.3493 - val_acc: 0.8976 - val_auc_2: 0.9659\n"
     ]
    }
   ],
   "source": [
    "vgg1hist = model.fit(X_fissure_train, y_fissure_train, validation_data = (X_fissure_test, y_fissure_test), epochs = 20, batch_size = 32)\n"
   ]
  },
  {
   "cell_type": "markdown",
   "id": "4eaed01d-7b37-4770-bcad-5d89cfcc14c7",
   "metadata": {},
   "source": [
    "#### REPARATION"
   ]
  },
  {
   "cell_type": "code",
   "execution_count": 225,
   "id": "27db35aa-e609-42f8-b2e3-b97cd196d435",
   "metadata": {},
   "outputs": [],
   "source": [
    "X_reparation_train, X_reparation_test, y_reparation_train, y_reparation_test = train_test_split(X, y_reparation, test_size=0.2)\n"
   ]
  },
  {
   "cell_type": "code",
   "execution_count": 226,
   "id": "c7691dd8-9a26-4441-94b6-66ccdabf0580",
   "metadata": {},
   "outputs": [],
   "source": [
    "X_reparation_train, y_reparation_train = oversampler(X_reparation_train, y_reparation_train) "
   ]
  },
  {
   "cell_type": "code",
   "execution_count": 227,
   "id": "f58e795f-aac4-4195-89c7-b0d2a71718b7",
   "metadata": {},
   "outputs": [
    {
     "name": "stdout",
     "output_type": "stream",
     "text": [
      "1166\n",
      "0.5\n",
      "(1166, 224, 224, 3)\n"
     ]
    }
   ],
   "source": [
    "print(len(y_reparation_train))\n",
    "print(y_reparation_train.mean())\n",
    "print(X_reparation_train.shape)"
   ]
  },
  {
   "cell_type": "code",
   "execution_count": 228,
   "id": "01c00284-6de7-424e-90e1-18ea05dab234",
   "metadata": {},
   "outputs": [
    {
     "name": "stdout",
     "output_type": "stream",
     "text": [
      "Epoch 1/20\n",
      "37/37 [==============================] - 3s 83ms/step - loss: 0.6119 - acc: 0.8345 - auc_2: 0.8781 - val_loss: 0.3484 - val_acc: 0.8313 - val_auc_2: 0.9109\n",
      "Epoch 2/20\n",
      "37/37 [==============================] - 2s 51ms/step - loss: 0.2678 - acc: 0.9168 - auc_2: 0.9568 - val_loss: 0.2791 - val_acc: 0.8554 - val_auc_2: 0.9272\n",
      "Epoch 3/20\n",
      "37/37 [==============================] - 2s 52ms/step - loss: 0.2119 - acc: 0.9288 - auc_2: 0.9688 - val_loss: 0.2394 - val_acc: 0.8916 - val_auc_2: 0.9138\n",
      "Epoch 4/20\n",
      "37/37 [==============================] - 2s 52ms/step - loss: 0.1801 - acc: 0.9434 - auc_2: 0.9776 - val_loss: 0.2408 - val_acc: 0.8795 - val_auc_2: 0.9167\n",
      "Epoch 5/20\n",
      "37/37 [==============================] - 2s 52ms/step - loss: 0.1426 - acc: 0.9597 - auc_2: 0.9883 - val_loss: 0.2874 - val_acc: 0.8675 - val_auc_2: 0.9162\n",
      "Epoch 6/20\n",
      "37/37 [==============================] - 2s 53ms/step - loss: 0.1326 - acc: 0.9520 - auc_2: 0.9891 - val_loss: 0.2933 - val_acc: 0.8735 - val_auc_2: 0.9088\n",
      "Epoch 7/20\n",
      "37/37 [==============================] - 2s 52ms/step - loss: 0.1147 - acc: 0.9648 - auc_2: 0.9924 - val_loss: 0.3078 - val_acc: 0.8675 - val_auc_2: 0.9015\n",
      "Epoch 8/20\n",
      "37/37 [==============================] - 2s 53ms/step - loss: 0.1116 - acc: 0.9657 - auc_2: 0.9923 - val_loss: 0.2847 - val_acc: 0.8614 - val_auc_2: 0.9105\n",
      "Epoch 9/20\n",
      "37/37 [==============================] - 2s 52ms/step - loss: 0.0922 - acc: 0.9734 - auc_2: 0.9950 - val_loss: 0.3209 - val_acc: 0.8554 - val_auc_2: 0.9029\n",
      "Epoch 10/20\n",
      "37/37 [==============================] - 2s 51ms/step - loss: 0.0898 - acc: 0.9734 - auc_2: 0.9947 - val_loss: 0.3072 - val_acc: 0.8614 - val_auc_2: 0.9073\n",
      "Epoch 11/20\n",
      "37/37 [==============================] - 2s 52ms/step - loss: 0.0847 - acc: 0.9768 - auc_2: 0.9947 - val_loss: 0.3224 - val_acc: 0.8614 - val_auc_2: 0.9095\n",
      "Epoch 12/20\n",
      "37/37 [==============================] - 2s 53ms/step - loss: 0.0819 - acc: 0.9768 - auc_2: 0.9955 - val_loss: 0.3193 - val_acc: 0.8675 - val_auc_2: 0.9082\n",
      "Epoch 13/20\n",
      "37/37 [==============================] - 2s 53ms/step - loss: 0.0596 - acc: 0.9846 - auc_2: 0.9991 - val_loss: 0.3305 - val_acc: 0.8855 - val_auc_2: 0.9044\n",
      "Epoch 14/20\n",
      "37/37 [==============================] - 2s 52ms/step - loss: 0.0591 - acc: 0.9880 - auc_2: 0.9973 - val_loss: 0.3311 - val_acc: 0.8795 - val_auc_2: 0.9057\n",
      "Epoch 15/20\n",
      "37/37 [==============================] - 2s 53ms/step - loss: 0.0609 - acc: 0.9854 - auc_2: 0.9975 - val_loss: 0.3366 - val_acc: 0.8735 - val_auc_2: 0.9061\n",
      "Epoch 16/20\n",
      "37/37 [==============================] - 2s 53ms/step - loss: 0.0582 - acc: 0.9820 - auc_2: 0.9987 - val_loss: 0.4003 - val_acc: 0.8675 - val_auc_2: 0.8807\n",
      "Epoch 17/20\n",
      "37/37 [==============================] - 2s 52ms/step - loss: 0.0533 - acc: 0.9863 - auc_2: 0.9988 - val_loss: 0.3522 - val_acc: 0.8795 - val_auc_2: 0.9045\n",
      "Epoch 18/20\n",
      "37/37 [==============================] - 2s 52ms/step - loss: 0.0531 - acc: 0.9854 - auc_2: 0.9988 - val_loss: 0.3531 - val_acc: 0.8614 - val_auc_2: 0.9077\n",
      "Epoch 19/20\n",
      "37/37 [==============================] - 2s 54ms/step - loss: 0.0463 - acc: 0.9889 - auc_2: 0.9991 - val_loss: 0.3783 - val_acc: 0.8855 - val_auc_2: 0.8875\n",
      "Epoch 20/20\n",
      "37/37 [==============================] - 2s 53ms/step - loss: 0.0446 - acc: 0.9889 - auc_2: 0.9992 - val_loss: 0.3728 - val_acc: 0.8614 - val_auc_2: 0.8855\n"
     ]
    }
   ],
   "source": [
    "vgg2hist = model.fit(X_reparation_train, y_reparation_train, validation_data = (X_reparation_test, y_reparation_test), epochs = 20, batch_size = 32)\n"
   ]
  },
  {
   "cell_type": "markdown",
   "id": "bd6e0c79-1db8-4105-8570-72c53d6f33a6",
   "metadata": {},
   "source": [
    "#### FISSURE LONGITUDINALE"
   ]
  },
  {
   "cell_type": "code",
   "execution_count": 229,
   "id": "a980d4cc-5fba-410d-add1-c96d06a30eb7",
   "metadata": {},
   "outputs": [],
   "source": [
    "X_longi_train, X_longi_test, y_longi_train, y_longi_test = train_test_split(X, y_longi, test_size=0.2)\n"
   ]
  },
  {
   "cell_type": "code",
   "execution_count": 230,
   "id": "ddf66f97-c418-4880-9ded-1fb50919996a",
   "metadata": {},
   "outputs": [],
   "source": [
    "X_longi_train, y_longi_train = oversampler(X_longi_train, y_longi_train) "
   ]
  },
  {
   "cell_type": "code",
   "execution_count": 231,
   "id": "63842fd2-dfe7-459b-9c7d-c4a49bc8436d",
   "metadata": {},
   "outputs": [
    {
     "name": "stdout",
     "output_type": "stream",
     "text": [
      "972\n",
      "0.5\n",
      "(972, 224, 224, 3)\n"
     ]
    }
   ],
   "source": [
    "print(len(y_longi_train))\n",
    "print(y_longi_train.mean())\n",
    "print(X_longi_train.shape)"
   ]
  },
  {
   "cell_type": "code",
   "execution_count": 232,
   "id": "1d989fe7-eaaa-45fa-b0b0-b788594296e7",
   "metadata": {},
   "outputs": [
    {
     "name": "stdout",
     "output_type": "stream",
     "text": [
      "Epoch 1/20\n",
      "31/31 [==============================] - 2s 55ms/step - loss: 0.6663 - acc: 0.7891 - auc_2: 0.8479 - val_loss: 0.2215 - val_acc: 0.8916 - val_auc_2: 0.9675\n",
      "Epoch 2/20\n",
      "31/31 [==============================] - 2s 53ms/step - loss: 0.3295 - acc: 0.8817 - auc_2: 0.9370 - val_loss: 0.1720 - val_acc: 0.9398 - val_auc_2: 0.9798\n",
      "Epoch 3/20\n",
      "31/31 [==============================] - 2s 53ms/step - loss: 0.2455 - acc: 0.9126 - auc_2: 0.9634 - val_loss: 0.1927 - val_acc: 0.9217 - val_auc_2: 0.9790\n",
      "Epoch 4/20\n",
      "31/31 [==============================] - 2s 54ms/step - loss: 0.2283 - acc: 0.9146 - auc_2: 0.9680 - val_loss: 0.1639 - val_acc: 0.9398 - val_auc_2: 0.9781\n",
      "Epoch 5/20\n",
      "31/31 [==============================] - 2s 53ms/step - loss: 0.2409 - acc: 0.9033 - auc_2: 0.9617 - val_loss: 0.1677 - val_acc: 0.9398 - val_auc_2: 0.9780\n",
      "Epoch 6/20\n",
      "31/31 [==============================] - 2s 54ms/step - loss: 0.1808 - acc: 0.9383 - auc_2: 0.9800 - val_loss: 0.2193 - val_acc: 0.9217 - val_auc_2: 0.9729\n",
      "Epoch 7/20\n",
      "31/31 [==============================] - 2s 54ms/step - loss: 0.1645 - acc: 0.9393 - auc_2: 0.9856 - val_loss: 0.1702 - val_acc: 0.9277 - val_auc_2: 0.9756\n",
      "Epoch 8/20\n",
      "31/31 [==============================] - 2s 55ms/step - loss: 0.1702 - acc: 0.9393 - auc_2: 0.9806 - val_loss: 0.1716 - val_acc: 0.9337 - val_auc_2: 0.9750\n",
      "Epoch 9/20\n",
      "31/31 [==============================] - 2s 53ms/step - loss: 0.1613 - acc: 0.9455 - auc_2: 0.9838 - val_loss: 0.1913 - val_acc: 0.9277 - val_auc_2: 0.9723\n",
      "Epoch 10/20\n",
      "31/31 [==============================] - 2s 54ms/step - loss: 0.1336 - acc: 0.9558 - auc_2: 0.9907 - val_loss: 0.2054 - val_acc: 0.9337 - val_auc_2: 0.9629\n",
      "Epoch 11/20\n",
      "31/31 [==============================] - 2s 54ms/step - loss: 0.1512 - acc: 0.9455 - auc_2: 0.9870 - val_loss: 0.1933 - val_acc: 0.9337 - val_auc_2: 0.9716\n",
      "Epoch 12/20\n",
      "31/31 [==============================] - 2s 54ms/step - loss: 0.1392 - acc: 0.9558 - auc_2: 0.9876 - val_loss: 0.1779 - val_acc: 0.9398 - val_auc_2: 0.9668\n",
      "Epoch 13/20\n",
      "31/31 [==============================] - 2s 53ms/step - loss: 0.1282 - acc: 0.9547 - auc_2: 0.9908 - val_loss: 0.1848 - val_acc: 0.9398 - val_auc_2: 0.9701\n",
      "Epoch 14/20\n",
      "31/31 [==============================] - 2s 54ms/step - loss: 0.1200 - acc: 0.9681 - auc_2: 0.9897 - val_loss: 0.1801 - val_acc: 0.9277 - val_auc_2: 0.9716\n",
      "Epoch 15/20\n",
      "31/31 [==============================] - 2s 54ms/step - loss: 0.1154 - acc: 0.9609 - auc_2: 0.9927 - val_loss: 0.1923 - val_acc: 0.9337 - val_auc_2: 0.9585\n",
      "Epoch 16/20\n",
      "31/31 [==============================] - 2s 54ms/step - loss: 0.1091 - acc: 0.9660 - auc_2: 0.9927 - val_loss: 0.1977 - val_acc: 0.9277 - val_auc_2: 0.9664\n",
      "Epoch 17/20\n",
      "31/31 [==============================] - 2s 55ms/step - loss: 0.1091 - acc: 0.9640 - auc_2: 0.9929 - val_loss: 0.2125 - val_acc: 0.9277 - val_auc_2: 0.9618\n",
      "Epoch 18/20\n",
      "31/31 [==============================] - 2s 54ms/step - loss: 0.1058 - acc: 0.9619 - auc_2: 0.9932 - val_loss: 0.2279 - val_acc: 0.9277 - val_auc_2: 0.9625\n",
      "Epoch 19/20\n",
      "31/31 [==============================] - 2s 54ms/step - loss: 0.0910 - acc: 0.9691 - auc_2: 0.9958 - val_loss: 0.1887 - val_acc: 0.9337 - val_auc_2: 0.9723\n",
      "Epoch 20/20\n",
      "31/31 [==============================] - 2s 56ms/step - loss: 0.0866 - acc: 0.9753 - auc_2: 0.9961 - val_loss: 0.2010 - val_acc: 0.9398 - val_auc_2: 0.9604\n"
     ]
    }
   ],
   "source": [
    "vgg3hist = model.fit(X_longi_train, y_longi_train, validation_data = (X_longi_test, y_longi_test), epochs = 20, batch_size = 32)\n"
   ]
  },
  {
   "cell_type": "markdown",
   "id": "2ace0257-0bf9-4ea9-bb72-e70aaaa50ff2",
   "metadata": {},
   "source": [
    "#### FAIENÇAGE"
   ]
  },
  {
   "cell_type": "code",
   "execution_count": 233,
   "id": "6bd61d6e-8081-4184-9a79-0606df639502",
   "metadata": {},
   "outputs": [],
   "source": [
    "X_faience_train, X_faience_test, y_faience_train, y_faience_test = train_test_split(X, y_faience, test_size=0.2)\n"
   ]
  },
  {
   "cell_type": "code",
   "execution_count": 234,
   "id": "d1dd98a8-4d08-455a-9b68-d34f418e37a9",
   "metadata": {},
   "outputs": [],
   "source": [
    "X_faience_train, y_faience_train = oversampler(X_faience_train, y_faience_train) "
   ]
  },
  {
   "cell_type": "code",
   "execution_count": 235,
   "id": "566f0e20-c4d8-441e-a789-9d6cbac24fcb",
   "metadata": {},
   "outputs": [
    {
     "name": "stdout",
     "output_type": "stream",
     "text": [
      "1250\n",
      "0.5\n",
      "(1250, 224, 224, 3)\n"
     ]
    }
   ],
   "source": [
    "print(len(y_faience_train))\n",
    "print(y_faience_train.mean())\n",
    "print(X_faience_train.shape)"
   ]
  },
  {
   "cell_type": "code",
   "execution_count": 236,
   "id": "35bf7d8e-3fa6-4900-879b-72a7bb572a10",
   "metadata": {},
   "outputs": [
    {
     "name": "stdout",
     "output_type": "stream",
     "text": [
      "Epoch 1/20\n",
      "40/40 [==============================] - 3s 64ms/step - loss: 0.4222 - acc: 0.8536 - auc_2: 0.9101 - val_loss: 0.3930 - val_acc: 0.7831 - val_auc_2: 0.9349\n",
      "Epoch 2/20\n",
      "40/40 [==============================] - 2s 51ms/step - loss: 0.2524 - acc: 0.9088 - auc_2: 0.9546 - val_loss: 0.1444 - val_acc: 0.9398 - val_auc_2: 0.9260\n",
      "Epoch 3/20\n",
      "40/40 [==============================] - 2s 54ms/step - loss: 0.1951 - acc: 0.9264 - auc_2: 0.9721 - val_loss: 0.1547 - val_acc: 0.9398 - val_auc_2: 0.9224\n",
      "Epoch 4/20\n",
      "40/40 [==============================] - 2s 51ms/step - loss: 0.1550 - acc: 0.9464 - auc_2: 0.9832 - val_loss: 0.1845 - val_acc: 0.9277 - val_auc_2: 0.9141\n",
      "Epoch 5/20\n",
      "40/40 [==============================] - 2s 52ms/step - loss: 0.1219 - acc: 0.9576 - auc_2: 0.9909 - val_loss: 0.2807 - val_acc: 0.8494 - val_auc_2: 0.9138\n",
      "Epoch 6/20\n",
      "40/40 [==============================] - 2s 51ms/step - loss: 0.1048 - acc: 0.9672 - auc_2: 0.9931 - val_loss: 0.1974 - val_acc: 0.9217 - val_auc_2: 0.9058\n",
      "Epoch 7/20\n",
      "40/40 [==============================] - 2s 51ms/step - loss: 0.1001 - acc: 0.9648 - auc_2: 0.9948 - val_loss: 0.1990 - val_acc: 0.9277 - val_auc_2: 0.8673\n",
      "Epoch 8/20\n",
      "40/40 [==============================] - 2s 50ms/step - loss: 0.0814 - acc: 0.9816 - auc_2: 0.9952 - val_loss: 0.2771 - val_acc: 0.9518 - val_auc_2: 0.7676\n",
      "Epoch 9/20\n",
      "40/40 [==============================] - 2s 51ms/step - loss: 0.0736 - acc: 0.9768 - auc_2: 0.9976 - val_loss: 0.2472 - val_acc: 0.9036 - val_auc_2: 0.9010\n",
      "Epoch 10/20\n",
      "40/40 [==============================] - 2s 52ms/step - loss: 0.0711 - acc: 0.9776 - auc_2: 0.9967 - val_loss: 0.2002 - val_acc: 0.9398 - val_auc_2: 0.8365\n",
      "Epoch 11/20\n",
      "40/40 [==============================] - 2s 52ms/step - loss: 0.0598 - acc: 0.9832 - auc_2: 0.9985 - val_loss: 0.2255 - val_acc: 0.9277 - val_auc_2: 0.8276\n",
      "Epoch 12/20\n",
      "40/40 [==============================] - 2s 51ms/step - loss: 0.0556 - acc: 0.9840 - auc_2: 0.9977 - val_loss: 0.2287 - val_acc: 0.9217 - val_auc_2: 0.8308\n",
      "Epoch 13/20\n",
      "40/40 [==============================] - 2s 51ms/step - loss: 0.0465 - acc: 0.9904 - auc_2: 0.9989 - val_loss: 0.2280 - val_acc: 0.9398 - val_auc_2: 0.8311\n",
      "Epoch 14/20\n",
      "40/40 [==============================] - 2s 51ms/step - loss: 0.0425 - acc: 0.9904 - auc_2: 0.9989 - val_loss: 0.2244 - val_acc: 0.9337 - val_auc_2: 0.8337\n",
      "Epoch 15/20\n",
      "40/40 [==============================] - 2s 51ms/step - loss: 0.0484 - acc: 0.9864 - auc_2: 0.9982 - val_loss: 0.2205 - val_acc: 0.9398 - val_auc_2: 0.8343\n",
      "Epoch 16/20\n",
      "40/40 [==============================] - 2s 51ms/step - loss: 0.0384 - acc: 0.9880 - auc_2: 0.9993 - val_loss: 0.2468 - val_acc: 0.9277 - val_auc_2: 0.7455\n",
      "Epoch 17/20\n",
      "40/40 [==============================] - 2s 53ms/step - loss: 0.0308 - acc: 0.9936 - auc_2: 0.9995 - val_loss: 0.2563 - val_acc: 0.9217 - val_auc_2: 0.7804\n",
      "Epoch 18/20\n",
      "40/40 [==============================] - 2s 51ms/step - loss: 0.0296 - acc: 0.9944 - auc_2: 0.9997 - val_loss: 0.2691 - val_acc: 0.9157 - val_auc_2: 0.8301\n",
      "Epoch 19/20\n",
      "40/40 [==============================] - 2s 52ms/step - loss: 0.0347 - acc: 0.9904 - auc_2: 0.9994 - val_loss: 0.2837 - val_acc: 0.9096 - val_auc_2: 0.8196\n",
      "Epoch 20/20\n",
      "40/40 [==============================] - 2s 51ms/step - loss: 0.0305 - acc: 0.9928 - auc_2: 0.9994 - val_loss: 0.2547 - val_acc: 0.9277 - val_auc_2: 0.8237\n"
     ]
    }
   ],
   "source": [
    "vgg4hist = model.fit(X_faience_train, y_faience_train, validation_data = (X_faience_test, y_faience_test), epochs = 20, batch_size = 32)\n"
   ]
  },
  {
   "cell_type": "markdown",
   "id": "65aff3fc-cc89-4666-a125-e2a0a0e8937a",
   "metadata": {},
   "source": [
    "#### MISE EN DALLE"
   ]
  },
  {
   "cell_type": "code",
   "execution_count": 237,
   "id": "c9462a17-6907-4563-88ac-5eafde3145fa",
   "metadata": {},
   "outputs": [],
   "source": [
    "X_med_train, X_med_test, y_med_train, y_med_test = train_test_split(X, y_med, test_size=0.2)"
   ]
  },
  {
   "cell_type": "code",
   "execution_count": 238,
   "id": "b026b9db-bcef-4dab-9ead-ab94aace085c",
   "metadata": {},
   "outputs": [],
   "source": [
    "X_med_train, y_med_train = oversampler(X_med_train, y_med_train) "
   ]
  },
  {
   "cell_type": "code",
   "execution_count": 239,
   "id": "2794f818-7e02-4dff-9ecc-b1b2c10db48e",
   "metadata": {},
   "outputs": [
    {
     "name": "stdout",
     "output_type": "stream",
     "text": [
      "1150\n",
      "0.5\n",
      "(1150, 224, 224, 3)\n"
     ]
    }
   ],
   "source": [
    "print(len(y_med_train))\n",
    "print(y_med_train.mean())\n",
    "print(X_med_train.shape)"
   ]
  },
  {
   "cell_type": "code",
   "execution_count": 240,
   "id": "69e9304a-fb9b-4f96-994c-2badcd5c7cd2",
   "metadata": {},
   "outputs": [
    {
     "name": "stdout",
     "output_type": "stream",
     "text": [
      "Epoch 1/20\n",
      "36/36 [==============================] - 2s 58ms/step - loss: 0.4622 - acc: 0.8817 - auc_2: 0.9228 - val_loss: 0.2430 - val_acc: 0.8795 - val_auc_2: 0.9604\n",
      "Epoch 2/20\n",
      "36/36 [==============================] - 2s 53ms/step - loss: 0.2123 - acc: 0.9365 - auc_2: 0.9682 - val_loss: 0.1736 - val_acc: 0.9337 - val_auc_2: 0.9637\n",
      "Epoch 3/20\n",
      "36/36 [==============================] - 2s 52ms/step - loss: 0.1850 - acc: 0.9365 - auc_2: 0.9741 - val_loss: 0.1607 - val_acc: 0.9518 - val_auc_2: 0.9661\n",
      "Epoch 4/20\n",
      "36/36 [==============================] - 2s 54ms/step - loss: 0.1546 - acc: 0.9574 - auc_2: 0.9806 - val_loss: 0.1947 - val_acc: 0.9277 - val_auc_2: 0.9570\n",
      "Epoch 5/20\n",
      "36/36 [==============================] - 2s 52ms/step - loss: 0.1448 - acc: 0.9574 - auc_2: 0.9826 - val_loss: 0.1729 - val_acc: 0.9398 - val_auc_2: 0.9476\n",
      "Epoch 6/20\n",
      "36/36 [==============================] - 2s 53ms/step - loss: 0.1196 - acc: 0.9661 - auc_2: 0.9892 - val_loss: 0.1787 - val_acc: 0.9277 - val_auc_2: 0.9483\n",
      "Epoch 7/20\n",
      "36/36 [==============================] - 2s 53ms/step - loss: 0.0921 - acc: 0.9730 - auc_2: 0.9937 - val_loss: 0.2262 - val_acc: 0.9036 - val_auc_2: 0.9640\n",
      "Epoch 8/20\n",
      "36/36 [==============================] - 2s 52ms/step - loss: 0.0972 - acc: 0.9670 - auc_2: 0.9925 - val_loss: 0.1626 - val_acc: 0.9518 - val_auc_2: 0.9351\n",
      "Epoch 9/20\n",
      "36/36 [==============================] - 2s 53ms/step - loss: 0.0811 - acc: 0.9757 - auc_2: 0.9940 - val_loss: 0.1682 - val_acc: 0.9458 - val_auc_2: 0.9353\n",
      "Epoch 10/20\n",
      "36/36 [==============================] - 2s 52ms/step - loss: 0.0752 - acc: 0.9783 - auc_2: 0.9963 - val_loss: 0.1528 - val_acc: 0.9518 - val_auc_2: 0.9558\n",
      "Epoch 11/20\n",
      "36/36 [==============================] - 2s 54ms/step - loss: 0.0721 - acc: 0.9757 - auc_2: 0.9953 - val_loss: 0.1736 - val_acc: 0.9458 - val_auc_2: 0.9360\n",
      "Epoch 12/20\n",
      "36/36 [==============================] - 2s 54ms/step - loss: 0.0713 - acc: 0.9774 - auc_2: 0.9948 - val_loss: 0.1746 - val_acc: 0.9337 - val_auc_2: 0.9356\n",
      "Epoch 13/20\n",
      "36/36 [==============================] - 2s 54ms/step - loss: 0.0601 - acc: 0.9843 - auc_2: 0.9969 - val_loss: 0.1626 - val_acc: 0.9578 - val_auc_2: 0.9363\n",
      "Epoch 14/20\n",
      "36/36 [==============================] - 2s 53ms/step - loss: 0.0613 - acc: 0.9809 - auc_2: 0.9972 - val_loss: 0.1657 - val_acc: 0.9458 - val_auc_2: 0.9372\n",
      "Epoch 15/20\n",
      "36/36 [==============================] - 2s 54ms/step - loss: 0.0499 - acc: 0.9843 - auc_2: 0.9988 - val_loss: 0.1640 - val_acc: 0.9578 - val_auc_2: 0.9377\n",
      "Epoch 16/20\n",
      "36/36 [==============================] - 2s 52ms/step - loss: 0.0561 - acc: 0.9835 - auc_2: 0.9972 - val_loss: 0.1882 - val_acc: 0.9398 - val_auc_2: 0.9337\n",
      "Epoch 17/20\n",
      "36/36 [==============================] - 2s 52ms/step - loss: 0.0421 - acc: 0.9896 - auc_2: 0.9991 - val_loss: 0.1621 - val_acc: 0.9639 - val_auc_2: 0.9373\n",
      "Epoch 18/20\n",
      "36/36 [==============================] - 2s 54ms/step - loss: 0.0379 - acc: 0.9904 - auc_2: 0.9993 - val_loss: 0.1771 - val_acc: 0.9337 - val_auc_2: 0.9536\n",
      "Epoch 19/20\n",
      "36/36 [==============================] - 2s 53ms/step - loss: 0.0451 - acc: 0.9896 - auc_2: 0.9980 - val_loss: 0.1753 - val_acc: 0.9578 - val_auc_2: 0.9373\n",
      "Epoch 20/20\n",
      "36/36 [==============================] - 2s 54ms/step - loss: 0.0413 - acc: 0.9870 - auc_2: 0.9989 - val_loss: 0.1807 - val_acc: 0.9518 - val_auc_2: 0.9361\n"
     ]
    }
   ],
   "source": [
    "vgg5hist = model.fit(X_med_train, y_med_train, validation_data = (X_med_test, y_med_test), epochs = 20, batch_size = 32)\n"
   ]
  }
 ],
 "metadata": {
  "kernelspec": {
   "display_name": "Python 3 (ipykernel)",
   "language": "python",
   "name": "python3"
  },
  "language_info": {
   "codemirror_mode": {
    "name": "ipython",
    "version": 3
   },
   "file_extension": ".py",
   "mimetype": "text/x-python",
   "name": "python",
   "nbconvert_exporter": "python",
   "pygments_lexer": "ipython3",
   "version": "3.8.13"
  }
 },
 "nbformat": 4,
 "nbformat_minor": 5
}
