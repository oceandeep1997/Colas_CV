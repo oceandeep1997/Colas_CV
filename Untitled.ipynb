{
 "cells": [
  {
   "cell_type": "code",
   "execution_count": null,
   "id": "2bbd3c28-41a5-4414-bbce-7b8335e3e302",
   "metadata": {},
   "outputs": [],
   "source": [
    "import pandas as pd\n",
    "import os \n",
    "import numpy as np\n",
    "import matplotlib.pyplot as plt\n",
    "import seaborn as sns"
   ]
  },
  {
   "cell_type": "code",
   "execution_count": null,
   "id": "012a3d33-1d0b-490a-8f6f-a882a3aa4779",
   "metadata": {},
   "outputs": [],
   "source": [
    "root_path = os.path.join(\"/home\",\"jovyan\")\n",
    "path = \"hfactory_magic_folders/colas_data_challenge/computer_vision_challenge/dataset\""
   ]
  },
  {
   "cell_type": "code",
   "execution_count": null,
   "id": "f1b75ccb-268b-4863-9e6a-f491e5954ac2",
   "metadata": {},
   "outputs": [],
   "source": [
    "pd.read_csv(\"/home/jovyan/hfactory_magic_folders/colas_data_challenge/computer_vision_challenge/dataset/labels_train.csv\")"
   ]
  },
  {
   "cell_type": "code",
   "execution_count": null,
   "id": "1e69eac4-3145-4e2d-9fd1-df0d29595104",
   "metadata": {},
   "outputs": [],
   "source": [
    "train_lables = pd.read_csv(os.path.join(root_path, \"hfactory_magic_folders/colas_data_challenge/computer_vision_challenge/dataset/labels_train.csv\"))"
   ]
  },
  {
   "cell_type": "code",
   "execution_count": null,
   "id": "7eb1d126-04bd-455c-ad68-b09f8790dce4",
   "metadata": {},
   "outputs": [],
   "source": []
  },
  {
   "cell_type": "code",
   "execution_count": null,
   "id": "d695ea4c-cf68-474b-bb56-97d898c20bdc",
   "metadata": {},
   "outputs": [],
   "source": []
  }
 ],
 "metadata": {
  "kernelspec": {
   "display_name": "Python 3 (ipykernel)",
   "language": "python",
   "name": "python3"
  },
  "language_info": {
   "codemirror_mode": {
    "name": "ipython",
    "version": 3
   },
   "file_extension": ".py",
   "mimetype": "text/x-python",
   "name": "python",
   "nbconvert_exporter": "python",
   "pygments_lexer": "ipython3",
   "version": "3.8.13"
  }
 },
 "nbformat": 4,
 "nbformat_minor": 5
}
